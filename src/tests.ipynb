{
 "cells": [
  {
   "cell_type": "markdown",
   "metadata": {},
   "source": [
    "Primero importamos todas las librerías a utilizar y creamos un objeto Trainset"
   ]
  },
  {
   "cell_type": "code",
   "execution_count": 3,
   "metadata": {},
   "outputs": [],
   "source": [
    "from trainset import Trainset\n",
    "import dataset_manager\n",
    "from fileinput import close\n",
    "import tensorflow as tf\n",
    "import numpy as np\n",
    "import matplotlib.pyplot as plt\n",
    "import pandas as pd\n",
    "from sklearn.metrics import r2_score\n",
    "from datetime import datetime\n",
    "\n",
    "\n",
    "myTrainset = Trainset()"
   ]
  },
  {
   "cell_type": "markdown",
   "metadata": {},
   "source": [
    "Seteamos los valores para el entrenamiento del modelo"
   ]
  },
  {
   "cell_type": "code",
   "execution_count": 4,
   "metadata": {},
   "outputs": [],
   "source": [
    "myTrainset.fecha_inicio_dataset= \"2015-01-01\"\n",
    "myTrainset.fecha_fin_dataset= \"2015-12-31\"\n",
    "myTrainset.dias_hacia_atras = 4\n",
    "myTrainset.porcentaje_entrenamiento = 0.7\n",
    "myTrainset.porcentaje_validacion = 0.15\n",
    "myTrainset.porcentaje_test = 0.15"
   ]
  },
  {
   "cell_type": "markdown",
   "metadata": {},
   "source": [
    "Obtenemos el dataset junto con los conjuntos de entrenamiento, validación y testeo ya divididos."
   ]
  },
  {
   "cell_type": "code",
   "execution_count": 5,
   "metadata": {},
   "outputs": [
    {
     "name": "stderr",
     "output_type": "stream",
     "text": [
      "c:\\Users\\bruno\\Documents\\Proyectos\\nasdaq-index-rn\\src\\dataset_manager.py:37: FutureWarning: The frame.append method is deprecated and will be removed from pandas in a future version. Use pandas.concat instead.\n",
      "  return filtered_dataset.append(days_before_first_day)\n"
     ]
    }
   ],
   "source": [
    "training_days, validation_days, test_days = dataset_manager.getDataset(myTrainset)"
   ]
  },
  {
   "cell_type": "markdown",
   "metadata": {},
   "source": [
    "Separamos los valores de cierre, seno del día de la semana y coseno del día de la semana en 3 listas. Tambien creamos listas para setear las inputs y outputs a utilizar en el entrenamiento.\n",
    "Seteamos las inputs del output y entrenamiento. Cada input esta formado por una lista con los siguientes valores: \n",
    "* Valor de cierre para los _n_ días anteriores al entrenamiento.\n",
    "* El valor de seno para el día de la semana a predecir.\n",
    "* El valor del coseno para el día de la semana a predecir.\n",
    "\n",
    "También, para la salida del entrenamiento generamos una lista de listas, donde cada sublista tiene el valor de cierre para el día a predecir."
   ]
  },
  {
   "cell_type": "code",
   "execution_count": 6,
   "metadata": {},
   "outputs": [],
   "source": [
    "training_inputs, training_outputs = dataset_manager.generateTrainingIOs(training_days, myTrainset.dias_hacia_atras)\n",
    "validation_inputs, validation_outputs = dataset_manager.generateTrainingIOs(validation_days, myTrainset.dias_hacia_atras)\n",
    "test_inputs, test_outputs = dataset_manager.generateTrainingIOs(test_days, myTrainset.dias_hacia_atras)"
   ]
  },
  {
   "cell_type": "markdown",
   "metadata": {},
   "source": [
    "Una vez tenemos las inputs y outputs a utilizar en el modelo, creamos este seteando sus distintos parámetros."
   ]
  },
  {
   "cell_type": "code",
   "execution_count": 7,
   "metadata": {},
   "outputs": [
    {
     "name": "stdout",
     "output_type": "stream",
     "text": [
      "Resumen del modelo:\n",
      "Model: \"sequential\"\n",
      "_________________________________________________________________\n",
      " Layer (type)                Output Shape              Param #   \n",
      "=================================================================\n",
      " dense (Dense)               (None, 50)                350       \n",
      "                                                                 \n",
      " dense_1 (Dense)             (None, 100)               5100      \n",
      "                                                                 \n",
      " dense_2 (Dense)             (None, 50)                5050      \n",
      "                                                                 \n",
      " dense_3 (Dense)             (None, 1)                 51        \n",
      "                                                                 \n",
      "=================================================================\n",
      "Total params: 10,551\n",
      "Trainable params: 10,551\n",
      "Non-trainable params: 0\n",
      "_________________________________________________________________\n",
      "None\n",
      "Comenzando entrenamiento...\n",
      "Epoch 1/3000\n",
      "6/6 [==============================] - 1s 28ms/step - loss: 23471012.0000 - mae: 4842.0361 - val_loss: 22586886.0000 - val_mae: 4748.8091\n",
      "Epoch 2/3000\n",
      "6/6 [==============================] - 0s 7ms/step - loss: 21626068.0000 - mae: 4647.9912 - val_loss: 20810668.0000 - val_mae: 4558.2183\n",
      "Epoch 3/3000\n",
      "6/6 [==============================] - 0s 7ms/step - loss: 19910276.0000 - mae: 4459.8120 - val_loss: 19164486.0000 - val_mae: 4374.1782\n",
      "Epoch 4/3000\n",
      "6/6 [==============================] - 0s 8ms/step - loss: 18331240.0000 - mae: 4279.1406 - val_loss: 17656782.0000 - val_mae: 4198.5474\n",
      "Epoch 5/3000\n",
      "6/6 [==============================] - 0s 7ms/step - loss: 16891194.0000 - mae: 4107.7725 - val_loss: 16289429.0000 - val_mae: 4032.6550\n",
      "Epoch 6/3000\n",
      "6/6 [==============================] - 0s 7ms/step - loss: 15559286.0000 - mae: 3942.2749 - val_loss: 14981530.0000 - val_mae: 3867.3276\n",
      "Epoch 7/3000\n",
      "6/6 [==============================] - 0s 7ms/step - loss: 14287890.0000 - mae: 3777.7671 - val_loss: 13756992.0000 - val_mae: 3705.8274\n",
      "Epoch 8/3000\n",
      "6/6 [==============================] - 0s 7ms/step - loss: 13114918.0000 - mae: 3619.5000 - val_loss: 12661790.0000 - val_mae: 3555.1738\n",
      "Epoch 9/3000\n",
      "6/6 [==============================] - 0s 7ms/step - loss: 12067945.0000 - mae: 3471.8889 - val_loss: 11670915.0000 - val_mae: 3413.2107\n",
      "Epoch 10/3000\n",
      "6/6 [==============================] - 0s 7ms/step - loss: 11135517.0000 - mae: 3334.9333 - val_loss: 10767115.0000 - val_mae: 3278.3289\n",
      "Epoch 11/3000\n",
      "6/6 [==============================] - 0s 7ms/step - loss: 10253162.0000 - mae: 3200.1790 - val_loss: 9903784.0000 - val_mae: 3144.0825\n",
      "Epoch 12/3000\n",
      "6/6 [==============================] - 0s 7ms/step - loss: 9415306.0000 - mae: 3066.6575 - val_loss: 9090027.0000 - val_mae: 3012.0974\n",
      "Epoch 13/3000\n",
      "6/6 [==============================] - 0s 7ms/step - loss: 8627515.0000 - mae: 2935.3281 - val_loss: 8312377.5000 - val_mae: 2880.2966\n",
      "Epoch 14/3000\n",
      "6/6 [==============================] - 0s 7ms/step - loss: 7869666.0000 - mae: 2803.4895 - val_loss: 7568956.5000 - val_mae: 2748.4055\n",
      "Epoch 15/3000\n",
      "6/6 [==============================] - 0s 8ms/step - loss: 7151632.0000 - mae: 2672.3589 - val_loss: 6900371.5000 - val_mae: 2624.0876\n",
      "Epoch 16/3000\n",
      "6/6 [==============================] - 0s 7ms/step - loss: 6533285.0000 - mae: 2554.1423 - val_loss: 6319012.5000 - val_mae: 2511.0432\n",
      "Epoch 17/3000\n",
      "6/6 [==============================] - 0s 7ms/step - loss: 5968289.5000 - mae: 2441.1724 - val_loss: 5761535.0000 - val_mae: 2397.6331\n",
      "Epoch 18/3000\n",
      "6/6 [==============================] - 0s 7ms/step - loss: 5427122.5000 - mae: 2327.6287 - val_loss: 5225699.0000 - val_mae: 2283.3301\n",
      "Epoch 19/3000\n",
      "6/6 [==============================] - 0s 7ms/step - loss: 4905962.0000 - mae: 2213.1807 - val_loss: 4710893.5000 - val_mae: 2167.8601\n",
      "Epoch 20/3000\n",
      "6/6 [==============================] - 0s 8ms/step - loss: 4405414.0000 - mae: 2096.8616 - val_loss: 4205888.5000 - val_mae: 2048.2629\n",
      "Epoch 21/3000\n",
      "6/6 [==============================] - 0s 11ms/step - loss: 3909707.2500 - mae: 1975.4333 - val_loss: 3715871.5000 - val_mae: 1925.1063\n",
      "Epoch 22/3000\n",
      "6/6 [==============================] - 0s 8ms/step - loss: 3436880.5000 - mae: 1851.7677 - val_loss: 3251653.0000 - val_mae: 1800.6909\n",
      "Epoch 23/3000\n",
      "6/6 [==============================] - 0s 7ms/step - loss: 2991135.5000 - mae: 1727.5110 - val_loss: 2820153.7500 - val_mae: 1676.7913\n",
      "Epoch 24/3000\n",
      "6/6 [==============================] - 0s 7ms/step - loss: 2580561.2500 - mae: 1604.2441 - val_loss: 2423712.0000 - val_mae: 1554.2753\n",
      "Epoch 25/3000\n",
      "6/6 [==============================] - 0s 7ms/step - loss: 2204032.5000 - mae: 1482.6470 - val_loss: 2062592.6250 - val_mae: 1433.5909\n",
      "Epoch 26/3000\n",
      "6/6 [==============================] - 0s 7ms/step - loss: 1863350.0000 - mae: 1362.7128 - val_loss: 1735808.2500 - val_mae: 1314.8622\n",
      "Epoch 27/3000\n",
      "6/6 [==============================] - 0s 7ms/step - loss: 1556430.7500 - mae: 1245.1545 - val_loss: 1443616.0000 - val_mae: 1198.7933\n",
      "Epoch 28/3000\n",
      "6/6 [==============================] - 0s 7ms/step - loss: 1284141.0000 - mae: 1130.6195 - val_loss: 1186003.1250 - val_mae: 1086.2260\n",
      "Epoch 29/3000\n",
      "6/6 [==============================] - 0s 7ms/step - loss: 1045266.8750 - mae: 1019.7559 - val_loss: 962156.8125 - val_mae: 977.9501\n",
      "Epoch 30/3000\n",
      "6/6 [==============================] - 0s 7ms/step - loss: 839392.5000 - mae: 913.5212 - val_loss: 769829.1250 - val_mae: 874.2740\n",
      "Epoch 31/3000\n",
      "6/6 [==============================] - 0s 7ms/step - loss: 664213.1875 - mae: 811.8699 - val_loss: 607022.4375 - val_mae: 775.7560\n",
      "Epoch 32/3000\n",
      "6/6 [==============================] - 0s 8ms/step - loss: 517045.8438 - mae: 715.8211 - val_loss: 471589.5938 - val_mae: 683.0629\n",
      "Epoch 33/3000\n",
      "6/6 [==============================] - 0s 8ms/step - loss: 396259.4062 - mae: 625.5723 - val_loss: 360685.3750 - val_mae: 596.5282\n",
      "Epoch 34/3000\n",
      "6/6 [==============================] - 0s 8ms/step - loss: 297970.5938 - mae: 541.8063 - val_loss: 271802.7188 - val_mae: 516.8238\n",
      "Epoch 35/3000\n",
      "6/6 [==============================] - 0s 7ms/step - loss: 220601.0469 - mae: 464.8334 - val_loss: 201787.9062 - val_mae: 444.0625\n",
      "Epoch 36/3000\n",
      "6/6 [==============================] - 0s 8ms/step - loss: 161635.8750 - mae: 396.1873 - val_loss: 151041.2500 - val_mae: 382.7098\n",
      "Epoch 37/3000\n",
      "6/6 [==============================] - 0s 8ms/step - loss: 118684.1719 - mae: 337.7550 - val_loss: 112063.0000 - val_mae: 327.9627\n",
      "Epoch 38/3000\n",
      "6/6 [==============================] - 0s 8ms/step - loss: 85944.2812 - mae: 286.3536 - val_loss: 82313.9609 - val_mae: 279.0466\n",
      "Epoch 39/3000\n",
      "6/6 [==============================] - 0s 8ms/step - loss: 61397.2891 - mae: 240.5985 - val_loss: 60092.2891 - val_mae: 235.9863\n",
      "Epoch 40/3000\n",
      "6/6 [==============================] - 0s 8ms/step - loss: 43592.8242 - mae: 200.8239 - val_loss: 43696.8789 - val_mae: 198.3191\n",
      "Epoch 41/3000\n",
      "6/6 [==============================] - 0s 8ms/step - loss: 30782.5254 - mae: 166.3094 - val_loss: 31839.3008 - val_mae: 166.5845\n",
      "Epoch 42/3000\n",
      "6/6 [==============================] - 0s 8ms/step - loss: 21852.0352 - mae: 137.2303 - val_loss: 23394.6953 - val_mae: 141.0039\n",
      "Epoch 43/3000\n",
      "6/6 [==============================] - 0s 7ms/step - loss: 15623.5742 - mae: 113.0518 - val_loss: 17511.6699 - val_mae: 120.1065\n",
      "Epoch 44/3000\n",
      "6/6 [==============================] - 0s 8ms/step - loss: 11469.8604 - mae: 94.1047 - val_loss: 13446.7646 - val_mae: 102.9163\n",
      "Epoch 45/3000\n",
      "6/6 [==============================] - 0s 7ms/step - loss: 8849.3242 - mae: 80.3112 - val_loss: 10622.4648 - val_mae: 89.2553\n",
      "Epoch 46/3000\n",
      "6/6 [==============================] - 0s 7ms/step - loss: 7000.9561 - mae: 69.2221 - val_loss: 8736.9971 - val_mae: 79.4095\n",
      "Epoch 47/3000\n",
      "6/6 [==============================] - 0s 7ms/step - loss: 5929.7036 - mae: 61.3123 - val_loss: 7439.0913 - val_mae: 72.1255\n",
      "Epoch 48/3000\n",
      "6/6 [==============================] - 0s 8ms/step - loss: 5289.4326 - mae: 56.3262 - val_loss: 6535.6797 - val_mae: 67.0972\n",
      "Epoch 49/3000\n",
      "6/6 [==============================] - 0s 8ms/step - loss: 4845.6040 - mae: 52.5629 - val_loss: 5919.9800 - val_mae: 63.4598\n",
      "Epoch 50/3000\n",
      "6/6 [==============================] - 0s 8ms/step - loss: 4558.1099 - mae: 50.0156 - val_loss: 5502.7471 - val_mae: 60.7533\n",
      "Epoch 51/3000\n",
      "6/6 [==============================] - 0s 8ms/step - loss: 4405.1875 - mae: 48.4827 - val_loss: 5193.0938 - val_mae: 58.8121\n",
      "Epoch 52/3000\n",
      "6/6 [==============================] - 0s 7ms/step - loss: 4288.7690 - mae: 47.4779 - val_loss: 5026.2197 - val_mae: 57.7420\n",
      "Epoch 53/3000\n",
      "6/6 [==============================] - 0s 7ms/step - loss: 4234.0879 - mae: 46.8787 - val_loss: 4849.6772 - val_mae: 56.6382\n",
      "Epoch 54/3000\n",
      "6/6 [==============================] - 0s 7ms/step - loss: 4177.3608 - mae: 46.2287 - val_loss: 4741.6582 - val_mae: 55.9199\n",
      "Epoch 55/3000\n",
      "6/6 [==============================] - 0s 7ms/step - loss: 4156.7393 - mae: 45.8957 - val_loss: 4637.8491 - val_mae: 55.2651\n",
      "Epoch 56/3000\n",
      "6/6 [==============================] - 0s 7ms/step - loss: 4132.1108 - mae: 45.6351 - val_loss: 4574.5034 - val_mae: 54.8721\n",
      "Epoch 57/3000\n",
      "6/6 [==============================] - 0s 7ms/step - loss: 4111.7432 - mae: 45.5159 - val_loss: 4544.4961 - val_mae: 54.6809\n",
      "Epoch 58/3000\n",
      "1/6 [====>.........................] - ETA: 0s - loss: 3499.4568 - mae: 46.3888"
     ]
    },
    {
     "ename": "KeyboardInterrupt",
     "evalue": "",
     "output_type": "error",
     "traceback": [
      "\u001b[1;31m---------------------------------------------------------------------------\u001b[0m",
      "\u001b[1;31mKeyboardInterrupt\u001b[0m                         Traceback (most recent call last)",
      "\u001b[1;32mc:\\Users\\bruno\\Documents\\Proyectos\\nasdaq-index-rn\\src\\tests.ipynb Celda 10\u001b[0m in \u001b[0;36m<cell line: 16>\u001b[1;34m()\u001b[0m\n\u001b[0;32m     <a href='vscode-notebook-cell:/c%3A/Users/bruno/Documents/Proyectos/nasdaq-index-rn/src/tests.ipynb#X12sZmlsZQ%3D%3D?line=13'>14</a>\u001b[0m \u001b[39mprint\u001b[39m(model\u001b[39m.\u001b[39msummary())\n\u001b[0;32m     <a href='vscode-notebook-cell:/c%3A/Users/bruno/Documents/Proyectos/nasdaq-index-rn/src/tests.ipynb#X12sZmlsZQ%3D%3D?line=14'>15</a>\u001b[0m \u001b[39mprint\u001b[39m(\u001b[39m\"\u001b[39m\u001b[39mComenzando entrenamiento...\u001b[39m\u001b[39m\"\u001b[39m)\n\u001b[1;32m---> <a href='vscode-notebook-cell:/c%3A/Users/bruno/Documents/Proyectos/nasdaq-index-rn/src/tests.ipynb#X12sZmlsZQ%3D%3D?line=15'>16</a>\u001b[0m historial \u001b[39m=\u001b[39m model\u001b[39m.\u001b[39;49mfit(training_inputs, training_outputs, epochs\u001b[39m=\u001b[39;49m\u001b[39m3000\u001b[39;49m ,verbose\u001b[39m=\u001b[39;49m\u001b[39m1\u001b[39;49m, validation_data\u001b[39m=\u001b[39;49m(validation_inputs, validation_outputs))\n\u001b[0;32m     <a href='vscode-notebook-cell:/c%3A/Users/bruno/Documents/Proyectos/nasdaq-index-rn/src/tests.ipynb#X12sZmlsZQ%3D%3D?line=16'>17</a>\u001b[0m \u001b[39mprint\u001b[39m(\u001b[39m\"\u001b[39m\u001b[39mModelo entrenado!\u001b[39m\u001b[39m\"\u001b[39m)\n\u001b[0;32m     <a href='vscode-notebook-cell:/c%3A/Users/bruno/Documents/Proyectos/nasdaq-index-rn/src/tests.ipynb#X12sZmlsZQ%3D%3D?line=17'>18</a>\u001b[0m \u001b[39mprint\u001b[39m(\u001b[39m\"\u001b[39m\u001b[39mGuardando modelo...\u001b[39m\u001b[39m\"\u001b[39m)\n",
      "File \u001b[1;32mc:\\Users\\bruno\\AppData\\Local\\Programs\\Python\\Python310\\lib\\site-packages\\keras\\utils\\traceback_utils.py:64\u001b[0m, in \u001b[0;36mfilter_traceback.<locals>.error_handler\u001b[1;34m(*args, **kwargs)\u001b[0m\n\u001b[0;32m     62\u001b[0m filtered_tb \u001b[39m=\u001b[39m \u001b[39mNone\u001b[39;00m\n\u001b[0;32m     63\u001b[0m \u001b[39mtry\u001b[39;00m:\n\u001b[1;32m---> 64\u001b[0m   \u001b[39mreturn\u001b[39;00m fn(\u001b[39m*\u001b[39margs, \u001b[39m*\u001b[39m\u001b[39m*\u001b[39mkwargs)\n\u001b[0;32m     65\u001b[0m \u001b[39mexcept\u001b[39;00m \u001b[39mException\u001b[39;00m \u001b[39mas\u001b[39;00m e:  \u001b[39m# pylint: disable=broad-except\u001b[39;00m\n\u001b[0;32m     66\u001b[0m   filtered_tb \u001b[39m=\u001b[39m _process_traceback_frames(e\u001b[39m.\u001b[39m__traceback__)\n",
      "File \u001b[1;32mc:\\Users\\bruno\\AppData\\Local\\Programs\\Python\\Python310\\lib\\site-packages\\keras\\engine\\training.py:1445\u001b[0m, in \u001b[0;36mModel.fit\u001b[1;34m(self, x, y, batch_size, epochs, verbose, callbacks, validation_split, validation_data, shuffle, class_weight, sample_weight, initial_epoch, steps_per_epoch, validation_steps, validation_batch_size, validation_freq, max_queue_size, workers, use_multiprocessing)\u001b[0m\n\u001b[0;32m   1431\u001b[0m \u001b[39mif\u001b[39;00m \u001b[39mgetattr\u001b[39m(\u001b[39mself\u001b[39m, \u001b[39m'\u001b[39m\u001b[39m_eval_data_handler\u001b[39m\u001b[39m'\u001b[39m, \u001b[39mNone\u001b[39;00m) \u001b[39mis\u001b[39;00m \u001b[39mNone\u001b[39;00m:\n\u001b[0;32m   1432\u001b[0m   \u001b[39mself\u001b[39m\u001b[39m.\u001b[39m_eval_data_handler \u001b[39m=\u001b[39m data_adapter\u001b[39m.\u001b[39mget_data_handler(\n\u001b[0;32m   1433\u001b[0m       x\u001b[39m=\u001b[39mval_x,\n\u001b[0;32m   1434\u001b[0m       y\u001b[39m=\u001b[39mval_y,\n\u001b[1;32m   (...)\u001b[0m\n\u001b[0;32m   1443\u001b[0m       model\u001b[39m=\u001b[39m\u001b[39mself\u001b[39m,\n\u001b[0;32m   1444\u001b[0m       steps_per_execution\u001b[39m=\u001b[39m\u001b[39mself\u001b[39m\u001b[39m.\u001b[39m_steps_per_execution)\n\u001b[1;32m-> 1445\u001b[0m val_logs \u001b[39m=\u001b[39m \u001b[39mself\u001b[39;49m\u001b[39m.\u001b[39;49mevaluate(\n\u001b[0;32m   1446\u001b[0m     x\u001b[39m=\u001b[39;49mval_x,\n\u001b[0;32m   1447\u001b[0m     y\u001b[39m=\u001b[39;49mval_y,\n\u001b[0;32m   1448\u001b[0m     sample_weight\u001b[39m=\u001b[39;49mval_sample_weight,\n\u001b[0;32m   1449\u001b[0m     batch_size\u001b[39m=\u001b[39;49mvalidation_batch_size \u001b[39mor\u001b[39;49;00m batch_size,\n\u001b[0;32m   1450\u001b[0m     steps\u001b[39m=\u001b[39;49mvalidation_steps,\n\u001b[0;32m   1451\u001b[0m     callbacks\u001b[39m=\u001b[39;49mcallbacks,\n\u001b[0;32m   1452\u001b[0m     max_queue_size\u001b[39m=\u001b[39;49mmax_queue_size,\n\u001b[0;32m   1453\u001b[0m     workers\u001b[39m=\u001b[39;49mworkers,\n\u001b[0;32m   1454\u001b[0m     use_multiprocessing\u001b[39m=\u001b[39;49muse_multiprocessing,\n\u001b[0;32m   1455\u001b[0m     return_dict\u001b[39m=\u001b[39;49m\u001b[39mTrue\u001b[39;49;00m,\n\u001b[0;32m   1456\u001b[0m     _use_cached_eval_dataset\u001b[39m=\u001b[39;49m\u001b[39mTrue\u001b[39;49;00m)\n\u001b[0;32m   1457\u001b[0m val_logs \u001b[39m=\u001b[39m {\u001b[39m'\u001b[39m\u001b[39mval_\u001b[39m\u001b[39m'\u001b[39m \u001b[39m+\u001b[39m name: val \u001b[39mfor\u001b[39;00m name, val \u001b[39min\u001b[39;00m val_logs\u001b[39m.\u001b[39mitems()}\n\u001b[0;32m   1458\u001b[0m epoch_logs\u001b[39m.\u001b[39mupdate(val_logs)\n",
      "File \u001b[1;32mc:\\Users\\bruno\\AppData\\Local\\Programs\\Python\\Python310\\lib\\site-packages\\keras\\utils\\traceback_utils.py:64\u001b[0m, in \u001b[0;36mfilter_traceback.<locals>.error_handler\u001b[1;34m(*args, **kwargs)\u001b[0m\n\u001b[0;32m     62\u001b[0m filtered_tb \u001b[39m=\u001b[39m \u001b[39mNone\u001b[39;00m\n\u001b[0;32m     63\u001b[0m \u001b[39mtry\u001b[39;00m:\n\u001b[1;32m---> 64\u001b[0m   \u001b[39mreturn\u001b[39;00m fn(\u001b[39m*\u001b[39margs, \u001b[39m*\u001b[39m\u001b[39m*\u001b[39mkwargs)\n\u001b[0;32m     65\u001b[0m \u001b[39mexcept\u001b[39;00m \u001b[39mException\u001b[39;00m \u001b[39mas\u001b[39;00m e:  \u001b[39m# pylint: disable=broad-except\u001b[39;00m\n\u001b[0;32m     66\u001b[0m   filtered_tb \u001b[39m=\u001b[39m _process_traceback_frames(e\u001b[39m.\u001b[39m__traceback__)\n",
      "File \u001b[1;32mc:\\Users\\bruno\\AppData\\Local\\Programs\\Python\\Python310\\lib\\site-packages\\keras\\engine\\training.py:1750\u001b[0m, in \u001b[0;36mModel.evaluate\u001b[1;34m(self, x, y, batch_size, verbose, sample_weight, steps, callbacks, max_queue_size, workers, use_multiprocessing, return_dict, **kwargs)\u001b[0m\n\u001b[0;32m   1748\u001b[0m \u001b[39mself\u001b[39m\u001b[39m.\u001b[39m_test_counter\u001b[39m.\u001b[39massign(\u001b[39m0\u001b[39m)\n\u001b[0;32m   1749\u001b[0m callbacks\u001b[39m.\u001b[39mon_test_begin()\n\u001b[1;32m-> 1750\u001b[0m \u001b[39mfor\u001b[39;00m _, iterator \u001b[39min\u001b[39;00m data_handler\u001b[39m.\u001b[39menumerate_epochs():  \u001b[39m# Single epoch.\u001b[39;00m\n\u001b[0;32m   1751\u001b[0m   \u001b[39mself\u001b[39m\u001b[39m.\u001b[39mreset_metrics()\n\u001b[0;32m   1752\u001b[0m   \u001b[39mwith\u001b[39;00m data_handler\u001b[39m.\u001b[39mcatch_stop_iteration():\n",
      "File \u001b[1;32mc:\\Users\\bruno\\AppData\\Local\\Programs\\Python\\Python310\\lib\\site-packages\\keras\\engine\\data_adapter.py:1198\u001b[0m, in \u001b[0;36mDataHandler.enumerate_epochs\u001b[1;34m(self)\u001b[0m\n\u001b[0;32m   1196\u001b[0m   \u001b[39mbreak\u001b[39;00m\n\u001b[0;32m   1197\u001b[0m \u001b[39mif\u001b[39;00m \u001b[39mself\u001b[39m\u001b[39m.\u001b[39m_adapter\u001b[39m.\u001b[39mshould_recreate_iterator():\n\u001b[1;32m-> 1198\u001b[0m   data_iterator \u001b[39m=\u001b[39m \u001b[39miter\u001b[39;49m(\u001b[39mself\u001b[39;49m\u001b[39m.\u001b[39;49m_dataset)\n\u001b[0;32m   1199\u001b[0m \u001b[39myield\u001b[39;00m epoch, data_iterator\n\u001b[0;32m   1200\u001b[0m \u001b[39mself\u001b[39m\u001b[39m.\u001b[39m_adapter\u001b[39m.\u001b[39mon_epoch_end()\n",
      "File \u001b[1;32mc:\\Users\\bruno\\AppData\\Local\\Programs\\Python\\Python310\\lib\\site-packages\\tensorflow\\python\\data\\ops\\dataset_ops.py:494\u001b[0m, in \u001b[0;36mDatasetV2.__iter__\u001b[1;34m(self)\u001b[0m\n\u001b[0;32m    492\u001b[0m \u001b[39mif\u001b[39;00m context\u001b[39m.\u001b[39mexecuting_eagerly() \u001b[39mor\u001b[39;00m ops\u001b[39m.\u001b[39minside_function():\n\u001b[0;32m    493\u001b[0m   \u001b[39mwith\u001b[39;00m ops\u001b[39m.\u001b[39mcolocate_with(\u001b[39mself\u001b[39m\u001b[39m.\u001b[39m_variant_tensor):\n\u001b[1;32m--> 494\u001b[0m     \u001b[39mreturn\u001b[39;00m iterator_ops\u001b[39m.\u001b[39;49mOwnedIterator(\u001b[39mself\u001b[39;49m)\n\u001b[0;32m    495\u001b[0m \u001b[39melse\u001b[39;00m:\n\u001b[0;32m    496\u001b[0m   \u001b[39mraise\u001b[39;00m \u001b[39mRuntimeError\u001b[39;00m(\u001b[39m\"\u001b[39m\u001b[39m`tf.data.Dataset` only supports Python-style \u001b[39m\u001b[39m\"\u001b[39m\n\u001b[0;32m    497\u001b[0m                      \u001b[39m\"\u001b[39m\u001b[39miteration in eager mode or within tf.function.\u001b[39m\u001b[39m\"\u001b[39m)\n",
      "File \u001b[1;32mc:\\Users\\bruno\\AppData\\Local\\Programs\\Python\\Python310\\lib\\site-packages\\tensorflow\\python\\data\\ops\\iterator_ops.py:696\u001b[0m, in \u001b[0;36mOwnedIterator.__init__\u001b[1;34m(self, dataset, components, element_spec)\u001b[0m\n\u001b[0;32m    692\u001b[0m   \u001b[39mif\u001b[39;00m (components \u001b[39mis\u001b[39;00m \u001b[39mnot\u001b[39;00m \u001b[39mNone\u001b[39;00m \u001b[39mor\u001b[39;00m element_spec \u001b[39mis\u001b[39;00m \u001b[39mnot\u001b[39;00m \u001b[39mNone\u001b[39;00m):\n\u001b[0;32m    693\u001b[0m     \u001b[39mraise\u001b[39;00m \u001b[39mValueError\u001b[39;00m(\n\u001b[0;32m    694\u001b[0m         \u001b[39m\"\u001b[39m\u001b[39mWhen `dataset` is provided, `element_spec` and `components` must \u001b[39m\u001b[39m\"\u001b[39m\n\u001b[0;32m    695\u001b[0m         \u001b[39m\"\u001b[39m\u001b[39mnot be specified.\u001b[39m\u001b[39m\"\u001b[39m)\n\u001b[1;32m--> 696\u001b[0m   \u001b[39mself\u001b[39;49m\u001b[39m.\u001b[39;49m_create_iterator(dataset)\n\u001b[0;32m    698\u001b[0m \u001b[39mself\u001b[39m\u001b[39m.\u001b[39m_get_next_call_count \u001b[39m=\u001b[39m \u001b[39m0\u001b[39m\n",
      "File \u001b[1;32mc:\\Users\\bruno\\AppData\\Local\\Programs\\Python\\Python310\\lib\\site-packages\\tensorflow\\python\\data\\ops\\iterator_ops.py:721\u001b[0m, in \u001b[0;36mOwnedIterator._create_iterator\u001b[1;34m(self, dataset)\u001b[0m\n\u001b[0;32m    716\u001b[0m \u001b[39mwith\u001b[39;00m ops\u001b[39m.\u001b[39mcolocate_with(ds_variant):\n\u001b[0;32m    717\u001b[0m   \u001b[39mself\u001b[39m\u001b[39m.\u001b[39m_iterator_resource \u001b[39m=\u001b[39m (\n\u001b[0;32m    718\u001b[0m       gen_dataset_ops\u001b[39m.\u001b[39manonymous_iterator_v3(\n\u001b[0;32m    719\u001b[0m           output_types\u001b[39m=\u001b[39m\u001b[39mself\u001b[39m\u001b[39m.\u001b[39m_flat_output_types,\n\u001b[0;32m    720\u001b[0m           output_shapes\u001b[39m=\u001b[39m\u001b[39mself\u001b[39m\u001b[39m.\u001b[39m_flat_output_shapes))\n\u001b[1;32m--> 721\u001b[0m   gen_dataset_ops\u001b[39m.\u001b[39;49mmake_iterator(ds_variant, \u001b[39mself\u001b[39;49m\u001b[39m.\u001b[39;49m_iterator_resource)\n",
      "File \u001b[1;32mc:\\Users\\bruno\\AppData\\Local\\Programs\\Python\\Python310\\lib\\site-packages\\tensorflow\\python\\ops\\gen_dataset_ops.py:3408\u001b[0m, in \u001b[0;36mmake_iterator\u001b[1;34m(dataset, iterator, name)\u001b[0m\n\u001b[0;32m   3406\u001b[0m \u001b[39mif\u001b[39;00m tld\u001b[39m.\u001b[39mis_eager:\n\u001b[0;32m   3407\u001b[0m   \u001b[39mtry\u001b[39;00m:\n\u001b[1;32m-> 3408\u001b[0m     _result \u001b[39m=\u001b[39m pywrap_tfe\u001b[39m.\u001b[39;49mTFE_Py_FastPathExecute(\n\u001b[0;32m   3409\u001b[0m       _ctx, \u001b[39m\"\u001b[39;49m\u001b[39mMakeIterator\u001b[39;49m\u001b[39m\"\u001b[39;49m, name, dataset, iterator)\n\u001b[0;32m   3410\u001b[0m     \u001b[39mreturn\u001b[39;00m _result\n\u001b[0;32m   3411\u001b[0m   \u001b[39mexcept\u001b[39;00m _core\u001b[39m.\u001b[39m_NotOkStatusException \u001b[39mas\u001b[39;00m e:\n",
      "\u001b[1;31mKeyboardInterrupt\u001b[0m: "
     ]
    }
   ],
   "source": [
    "model = tf.keras.Sequential()\n",
    "model.add(tf.keras.layers.Dense(50, input_dim=6, activation=tf.keras.activations.relu))\n",
    "model.add(tf.keras.layers.Dense(100, activation=tf.keras.activations.relu))\n",
    "model.add(tf.keras.layers.Dense(50, activation=tf.keras.activations.relu))\n",
    "model.add(tf.keras.layers.Dense(1))\n",
    "\n",
    "model.compile(\n",
    "    optimizer=tf.keras.optimizers.Adam(learning_rate=0.0001),\n",
    "    loss='mean_squared_error',\n",
    "    metrics=['mae']\n",
    ")\n",
    "\n",
    "print(\"Resumen del modelo:\")\n",
    "print(model.summary())\n",
    "print(\"Comenzando entrenamiento...\")\n",
    "historial = model.fit(training_inputs, training_outputs, epochs=3000 ,verbose=1, validation_data=(validation_inputs, validation_outputs))\n",
    "print(\"Modelo entrenado!\")\n",
    "print(\"Guardando modelo...\")\n",
    "model.save('models/model.h5', historial)"
   ]
  },
  {
   "cell_type": "markdown",
   "metadata": {},
   "source": [
    "Cargamos el modelo guardado"
   ]
  },
  {
   "cell_type": "code",
   "execution_count": 8,
   "metadata": {},
   "outputs": [
    {
     "name": "stdout",
     "output_type": "stream",
     "text": [
      "Cargando modelo...\n"
     ]
    }
   ],
   "source": [
    "print(\"Cargando modelo...\")\n",
    "model = tf.keras.models.load_model('models/model.h5')"
   ]
  },
  {
   "cell_type": "markdown",
   "metadata": {},
   "source": [
    "Ahora realizamos predicciones sobre el conjunto de testing y creamos un Dataset con los valores reales y la fecha."
   ]
  },
  {
   "cell_type": "code",
   "execution_count": 9,
   "metadata": {},
   "outputs": [
    {
     "name": "stdout",
     "output_type": "stream",
     "text": [
      "2/2 [==============================] - 0s 2ms/step\n"
     ]
    }
   ],
   "source": [
    "predictions = [item for sublist in model.predict(test_inputs) for item in sublist]\n",
    "results_df = pd.DataFrame(columns=['Date', 'Prediction', 'RealValue'])\n",
    "results_df[\"Date\"] = test_days[\"Date\"].iloc[myTrainset.dias_hacia_atras:].apply(lambda row: (pd.to_datetime(row)).strftime(\"%Y-%m-%d\"))\n",
    "results_df[\"RealValue\"] = test_days[\"Close\"].iloc[myTrainset.dias_hacia_atras:]\n",
    "results_df[\"Prediction\"] = predictions\n"
   ]
  },
  {
   "cell_type": "markdown",
   "metadata": {},
   "source": [
    "Finalmente graficamos los resultados y calculamos el R2\n"
   ]
  },
  {
   "cell_type": "code",
   "execution_count": 12,
   "metadata": {},
   "outputs": [
    {
     "name": "stdout",
     "output_type": "stream",
     "text": [
      "R2: 0.049963240781245255\n"
     ]
    },
    {
     "data": {
      "image/png": "[encoded data removed]",
      "text/plain": [
       "<Figure size 432x288 with 1 Axes>"
      ]
     },
     "metadata": {
      "needs_background": "light"
     },
     "output_type": "display_data"
    }
   ],
   "source": [
    "plt.plot(results_df[\"Prediction\"], marker='o', color='green')\n",
    "plt.xlabel(\"Fecha\")\n",
    "plt.xticks(ticks=range(0,len(results_df)), labels=results_df[\"Date\"], rotation=90)\n",
    "plt.ylabel(\"Valor de cierre\")\n",
    "plt.plot(results_df[\"RealValue\"], marker=\"s\", color='red')\n",
    "\n",
    "print(f'R2: {r2_score(results_df[\"RealValue\"], results_df[\"Prediction\"])}')\n",
    "\n",
    "plt.show()"
   ]
  }
 ],
 "metadata": {
  "kernelspec": {
   "display_name": "Python 3.10.5 64-bit",
   "language": "python",
   "name": "python3"
  },
  "language_info": {
   "codemirror_mode": {
    "name": "ipython",
    "version": 3
   },
   "file_extension": ".py",
   "mimetype": "text/x-python",
   "name": "python",
   "nbconvert_exporter": "python",
   "pygments_lexer": "ipython3",
   "version": "3.10.5"
  },
  "orig_nbformat": 4,
  "vscode": {
   "interpreter": {
    "hash": "ed3943dba37f3ed717092a780584c496f36863d6c99891baccd6632ecc02cdda"
   }
  }
 },
 "nbformat": 4,
 "nbformat_minor": 2
}
