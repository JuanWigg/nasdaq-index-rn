{
 "cells": [
  {
   "cell_type": "markdown",
   "metadata": {},
   "source": [
    "Primero importamos todas las librerías a utilizar y creamos un objeto Trainset"
   ]
  },
  {
   "cell_type": "code",
   "execution_count": 8,
   "metadata": {},
   "outputs": [],
   "source": [
    "from trainset import Trainset\n",
    "import dataset_manager\n",
    "from fileinput import close\n",
    "import tensorflow as tf\n",
    "import numpy as np\n",
    "import matplotlib.pyplot as plt\n",
    "import pandas as pd\n",
    "from datetime import datetime\n",
    "\n",
    "\n",
    "myTrainset = Trainset()"
   ]
  },
  {
   "cell_type": "markdown",
   "metadata": {},
   "source": [
    "Seteamos los valores para el entrenamiento del modelo"
   ]
  },
  {
   "cell_type": "code",
   "execution_count": 9,
   "metadata": {},
   "outputs": [],
   "source": [
    "myTrainset.fecha_inicio_dataset= \"2015-01-01\"\n",
    "myTrainset.fecha_fin_dataset= \"2015-12-31\"\n",
    "myTrainset.cantidad_dias_hacia_atras = 4\n",
    "myTrainset.porcentaje_entrenamiento = 0.7\n",
    "myTrainset.porcentaje_validacion = 0.15\n",
    "myTrainset.porcentaje_test = 0.15"
   ]
  },
  {
   "cell_type": "markdown",
   "metadata": {},
   "source": [
    "Obtenemos el dataset junto con los conjuntos de entrenamiento, validación y testeo ya divididos."
   ]
  },
  {
   "cell_type": "code",
   "execution_count": 10,
   "metadata": {},
   "outputs": [
    {
     "name": "stderr",
     "output_type": "stream",
     "text": [
      "/home/piche/Facultad/InteligenciaComputacional/nasdaq-index-rn/src/dataset_manager.py:37: FutureWarning: The frame.append method is deprecated and will be removed from pandas in a future version. Use pandas.concat instead.\n",
      "  return filtered_dataset.append(days_before_first_day)\n"
     ]
    }
   ],
   "source": [
    "training_days, validation_days, test_days = dataset_manager.getDataset(myTrainset)"
   ]
  },
  {
   "cell_type": "markdown",
   "metadata": {},
   "source": [
    "Separamos los valores de cierre, seno del día de la semana y coseno del día de la semana en 3 listas. Tambien creamos listas para setear las inputs y outputs a utilizar en el entrenamiento.\n",
    "Seteamos las inputs del output y entrenamiento. Cada input esta formado por una lista con los siguientes valores: \n",
    "* Valor de cierre para los _n_ días anteriores al entrenamiento.\n",
    "* El valor de seno para el día de la semana a predecir.\n",
    "* El valor del coseno para el día de la semana a predecir.\n",
    "\n",
    "También, para la salida del entrenamiento generamos una lista de listas, donde cada sublista tiene el valor de cierre para el día a predecir."
   ]
  },
  {
   "cell_type": "code",
   "execution_count": 11,
   "metadata": {},
   "outputs": [],
   "source": [
    "training_inputs, training_outputs = dataset_manager.generateTrainingIOs(training_days, myTrainset.dias_hacia_atras)\n",
    "validation_inputs, validation_outputs = dataset_manager.generateTrainingIOs(validation_days, myTrainset.dias_hacia_atras)\n",
    "test_inputs, test_outputs = dataset_manager.generateTrainingIOs(test_days, myTrainset.dias_hacia_atras)"
   ]
  },
  {
   "cell_type": "markdown",
   "metadata": {},
   "source": [
    "Una vez tenemos las inputs y outputs a utilizar en el modelo, creamos este seteando sus distintos parámetros."
   ]
  },
  {
   "cell_type": "code",
   "execution_count": null,
   "metadata": {},
   "outputs": [],
   "source": [
    "model = tf.keras.Sequential()\n",
    "model.add(tf.keras.layers.Dense(50, input_dim=6, activation=tf.keras.activations.relu))\n",
    "model.add(tf.keras.layers.Dense(100, activation=tf.keras.activations.relu))\n",
    "model.add(tf.keras.layers.Dense(50, activation=tf.keras.activations.relu))\n",
    "\n",
    "model.compile(\n",
    "    optimizer=tf.keras.optimizers.Adam(learning_rate=0.00001),\n",
    "    loss='mean_squared_error',\n",
    "    metrics=['mae']\n",
    ")\n",
    "\n",
    "print(\"Resumen del modelo:\")\n",
    "print(model.summary())\n",
    "print(\"Comenzando entrenamiento...\")\n",
    "historial = model.fit(training_inputs, training_outputs, epochs=100 ,verbose=1, validation_data=(validation_inputs, validation_outputs))\n",
    "print(\"Modelo entrenado!\")\n",
    "print(\"Guardando modelo...\")\n",
    "model.save('models/model.h5', historial)"
   ]
  },
  {
   "cell_type": "markdown",
   "metadata": {},
   "source": [
    "Cargamos el modelo guardado"
   ]
  },
  {
   "cell_type": "code",
   "execution_count": 12,
   "metadata": {},
   "outputs": [
    {
     "name": "stdout",
     "output_type": "stream",
     "text": [
      "Cargando modelo...\n"
     ]
    }
   ],
   "source": [
    "print(\"Cargando modelo...\")\n",
    "model = tf.keras.models.load_model('models/modeloCool.h5')"
   ]
  },
  {
   "cell_type": "markdown",
   "metadata": {},
   "source": [
    "Ahora realizamos predicciones sobre el conjunto de testing y creamos un Dataset con los valores reales y la fecha."
   ]
  },
  {
   "cell_type": "code",
   "execution_count": 13,
   "metadata": {},
   "outputs": [
    {
     "name": "stdout",
     "output_type": "stream",
     "text": [
      "2/2 [==============================] - 0s 3ms/step\n"
     ]
    }
   ],
   "source": [
    "predictions = [item for sublist in model.predict(test_inputs) for item in sublist]\n",
    "results_df = pd.DataFrame(columns=['Date', 'Prediction', 'RealValue'])\n",
    "results_df[\"Date\"] = test_days[\"Date\"].iloc[myTrainset.dias_hacia_atras:].apply(lambda row: (pd.to_datetime(row)).strftime(\"%Y-%m-%d\"))\n",
    "results_df[\"RealValue\"] = test_days[\"Close\"].iloc[myTrainset.dias_hacia_atras:]\n",
    "results_df[\"Prediction\"] = predictions\n"
   ]
  },
  {
   "cell_type": "markdown",
   "metadata": {},
   "source": [
    "Finalmente graficamos los resultados"
   ]
  },
  {
   "cell_type": "code",
   "execution_count": 14,
   "metadata": {},
   "outputs": [
    {
     "data": {
      "image/png": "[encoded data removed]",
      "text/plain": [
       "<Figure size 432x288 with 1 Axes>"
      ]
     },
     "metadata": {
      "needs_background": "light"
     },
     "output_type": "display_data"
    }
   ],
   "source": [
    "plt.plot(results_df[\"Prediction\"], marker='o', color='green')\n",
    "plt.xlabel(\"Fecha\")\n",
    "plt.xticks(ticks=range(0,len(results_df)), labels=results_df[\"Date\"], rotation=90)\n",
    "plt.ylabel(\"Valor de cierre\")\n",
    "plt.plot(results_df[\"RealValue\"], marker=\"s\", color='red')\n",
    "plt.show()"
   ]
  }
 ],
 "metadata": {
  "kernelspec": {
   "display_name": "Python 3.8.10 64-bit",
   "language": "python",
   "name": "python3"
  },
  "language_info": {
   "codemirror_mode": {
    "name": "ipython",
    "version": 3
   },
   "file_extension": ".py",
   "mimetype": "text/x-python",
   "name": "python",
   "nbconvert_exporter": "python",
   "pygments_lexer": "ipython3",
   "version": "3.8.10"
  },
  "orig_nbformat": 4,
  "vscode": {
   "interpreter": {
    "hash": "916dbcbb3f70747c44a77c7bcd40155683ae19c65e1c03b4aa3499c5328201f1"
   }
  }
 },
 "nbformat": 4,
 "nbformat_minor": 2
}
