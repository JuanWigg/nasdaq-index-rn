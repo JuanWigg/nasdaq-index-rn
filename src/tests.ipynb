{
 "cells": [
  {
   "cell_type": "markdown",
   "metadata": {},
   "source": [
    "Primero importamos todas las librerías a utilizar y creamos un objeto Trainset"
   ]
  },
  {
   "cell_type": "code",
   "execution_count": 4,
   "metadata": {},
   "outputs": [],
   "source": [
    "from trainset import Trainset\n",
    "import dataset_manager\n",
    "from fileinput import close\n",
    "import tensorflow as tf\n",
    "import numpy as np\n",
    "import matplotlib.pyplot as plt\n",
    "import pandas as pd\n",
    "from datetime import datetime\n",
    "\n",
    "\n",
    "myTrainset = Trainset()"
   ]
  },
  {
   "cell_type": "markdown",
   "metadata": {},
   "source": [
    "Seteamos los valores para el entrenamiento del modelo"
   ]
  },
  {
   "cell_type": "code",
   "execution_count": 5,
   "metadata": {},
   "outputs": [],
   "source": [
    "myTrainset.fecha_inicio_dataset= \"2015-01-01\"\n",
    "myTrainset.fecha_fin_dataset= \"2015-12-31\"\n",
    "myTrainset.dias_hacia_atras = 4\n",
    "myTrainset.porcentaje_entrenamiento = 0.7\n",
    "myTrainset.porcentaje_validacion = 0.15\n",
    "myTrainset.porcentaje_test = 0.15"
   ]
  },
  {
   "cell_type": "markdown",
   "metadata": {},
   "source": [
    "Obtenemos el dataset junto con los conjuntos de entrenamiento, validación y testeo ya divididos."
   ]
  },
  {
   "cell_type": "code",
   "execution_count": 6,
   "metadata": {},
   "outputs": [
    {
     "name": "stderr",
     "output_type": "stream",
     "text": [
      "c:\\Users\\bruno\\Documents\\Proyectos\\nasdaq-index-rn\\src\\dataset_manager.py:37: FutureWarning: The frame.append method is deprecated and will be removed from pandas in a future version. Use pandas.concat instead.\n",
      "  return filtered_dataset.append(days_before_first_day)\n"
     ]
    }
   ],
   "source": [
    "training_days, validation_days, test_days = dataset_manager.getDataset(myTrainset)"
   ]
  },
  {
   "cell_type": "markdown",
   "metadata": {},
   "source": [
    "Separamos los valores de cierre, seno del día de la semana y coseno del día de la semana en 3 listas. Tambien creamos listas para setear las inputs y outputs a utilizar en el entrenamiento.\n",
    "Seteamos las inputs del output y entrenamiento. Cada input esta formado por una lista con los siguientes valores: \n",
    "* Valor de cierre para los _n_ días anteriores al entrenamiento.\n",
    "* El valor de seno para el día de la semana a predecir.\n",
    "* El valor del coseno para el día de la semana a predecir.\n",
    "\n",
    "También, para la salida del entrenamiento generamos una lista de listas, donde cada sublista tiene el valor de cierre para el día a predecir."
   ]
  },
  {
   "cell_type": "code",
   "execution_count": 18,
   "metadata": {},
   "outputs": [],
   "source": [
    "training_inputs, training_outputs = dataset_manager.generateTrainingIOs(training_days, myTrainset.dias_hacia_atras)\n",
    "validation_inputs, validation_outputs = dataset_manager.generateTrainingIOs(validation_days, myTrainset.dias_hacia_atras)\n",
    "test_inputs, test_outputs = dataset_manager.generateTrainingIOs(test_days, myTrainset.dias_hacia_atras)"
   ]
  },
  {
   "cell_type": "markdown",
   "metadata": {},
   "source": [
    "Una vez tenemos las inputs y outputs a utilizar en el modelo, creamos este seteando sus distintos parámetros."
   ]
  },
  {
   "cell_type": "code",
   "execution_count": 19,
   "metadata": {},
   "outputs": [
    {
     "name": "stdout",
     "output_type": "stream",
     "text": [
      "Resumen del modelo:\n",
      "Model: \"sequential_1\"\n",
      "_________________________________________________________________\n",
      " Layer (type)                Output Shape              Param #   \n",
      "=================================================================\n",
      " dense_3 (Dense)             (None, 50)                350       \n",
      "                                                                 \n",
      " dense_4 (Dense)             (None, 100)               5100      \n",
      "                                                                 \n",
      " dense_5 (Dense)             (None, 50)                5050      \n",
      "                                                                 \n",
      " dense_6 (Dense)             (None, 1)                 51        \n",
      "                                                                 \n",
      "=================================================================\n",
      "Total params: 10,551\n",
      "Trainable params: 10,551\n",
      "Non-trainable params: 0\n",
      "_________________________________________________________________\n",
      "None\n",
      "Comenzando entrenamiento...\n",
      "Epoch 1/3000\n",
      "6/6 [==============================] - 0s 24ms/step - loss: 15179930.0000 - mae: 3894.2515 - val_loss: 15215319.0000 - val_mae: 3897.3621\n",
      "Epoch 2/3000\n",
      "6/6 [==============================] - 0s 7ms/step - loss: 14891019.0000 - mae: 3856.9768 - val_loss: 14925643.0000 - val_mae: 3860.0713\n",
      "Epoch 3/3000\n",
      "6/6 [==============================] - 0s 8ms/step - loss: 14604456.0000 - mae: 3819.7117 - val_loss: 14639519.0000 - val_mae: 3822.8801\n",
      "Epoch 4/3000\n",
      "6/6 [==============================] - 0s 8ms/step - loss: 14321548.0000 - mae: 3782.5452 - val_loss: 14356923.0000 - val_mae: 3785.7893\n",
      "Epoch 5/3000\n",
      "6/6 [==============================] - 0s 8ms/step - loss: 14042211.0000 - mae: 3745.4861 - val_loss: 14078123.0000 - val_mae: 3748.8369\n",
      "Epoch 6/3000\n",
      "6/6 [==============================] - 0s 7ms/step - loss: 13767164.0000 - mae: 3708.5962 - val_loss: 13803021.0000 - val_mae: 3712.0149\n",
      "Epoch 7/3000\n",
      "6/6 [==============================] - 0s 8ms/step - loss: 13495758.0000 - mae: 3671.8252 - val_loss: 13531907.0000 - val_mae: 3675.3657\n",
      "Epoch 8/3000\n",
      "6/6 [==============================] - 0s 7ms/step - loss: 13228962.0000 - mae: 3635.2937 - val_loss: 13264883.0000 - val_mae: 3638.9111\n",
      "Epoch 9/3000\n",
      "6/6 [==============================] - 0s 8ms/step - loss: 12964994.0000 - mae: 3598.9070 - val_loss: 13002852.0000 - val_mae: 3602.7817\n",
      "Epoch 10/3000\n",
      "6/6 [==============================] - 0s 7ms/step - loss: 12707483.0000 - mae: 3562.9434 - val_loss: 12745989.0000 - val_mae: 3567.0120\n",
      "Epoch 11/3000\n",
      "6/6 [==============================] - 0s 7ms/step - loss: 12455083.0000 - mae: 3527.4026 - val_loss: 12495632.0000 - val_mae: 3531.7964\n",
      "Epoch 12/3000\n",
      "6/6 [==============================] - 0s 7ms/step - loss: 12209748.0000 - mae: 3492.4231 - val_loss: 12250314.0000 - val_mae: 3496.9456\n",
      "Epoch 13/3000\n",
      "6/6 [==============================] - 0s 8ms/step - loss: 11968270.0000 - mae: 3457.7310 - val_loss: 12009656.0000 - val_mae: 3462.4143\n",
      "Epoch 14/3000\n",
      "6/6 [==============================] - 0s 8ms/step - loss: 11731207.0000 - mae: 3423.3469 - val_loss: 11773179.0000 - val_mae: 3428.1401\n",
      "Epoch 15/3000\n",
      "6/6 [==============================] - 0s 7ms/step - loss: 11498825.0000 - mae: 3389.2046 - val_loss: 11540050.0000 - val_mae: 3394.0100\n",
      "Epoch 16/3000\n",
      "6/6 [==============================] - 0s 7ms/step - loss: 11268294.0000 - mae: 3355.0601 - val_loss: 11309023.0000 - val_mae: 3359.8376\n",
      "Epoch 17/3000\n",
      "6/6 [==============================] - 0s 8ms/step - loss: 11036537.0000 - mae: 3320.4270 - val_loss: 11076325.0000 - val_mae: 3325.0708\n",
      "Epoch 18/3000\n",
      "6/6 [==============================] - 0s 7ms/step - loss: 10804700.0000 - mae: 3285.2998 - val_loss: 10842648.0000 - val_mae: 3289.7913\n",
      "Epoch 19/3000\n",
      "6/6 [==============================] - 0s 8ms/step - loss: 10573793.0000 - mae: 3250.0117 - val_loss: 10611826.0000 - val_mae: 3254.5693\n",
      "Epoch 20/3000\n",
      "6/6 [==============================] - 0s 7ms/step - loss: 10346025.0000 - mae: 3214.8306 - val_loss: 10384943.0000 - val_mae: 3219.5732\n",
      "Epoch 21/3000\n",
      "6/6 [==============================] - 0s 7ms/step - loss: 10122651.0000 - mae: 3179.9189 - val_loss: 10161787.0000 - val_mae: 3184.7751\n",
      "Epoch 22/3000\n",
      "6/6 [==============================] - 0s 7ms/step - loss: 9902968.0000 - mae: 3145.1960 - val_loss: 9943398.0000 - val_mae: 3150.3438\n",
      "Epoch 23/3000\n",
      "6/6 [==============================] - 0s 7ms/step - loss: 9687204.0000 - mae: 3110.7449 - val_loss: 9730891.0000 - val_mae: 3116.4717\n",
      "Epoch 24/3000\n",
      "6/6 [==============================] - 0s 7ms/step - loss: 9477275.0000 - mae: 3076.7756 - val_loss: 9519829.0000 - val_mae: 3082.4705\n",
      "Epoch 25/3000\n",
      "6/6 [==============================] - 0s 7ms/step - loss: 9269047.0000 - mae: 3042.8293 - val_loss: 9312498.0000 - val_mae: 3048.7056\n",
      "Epoch 26/3000\n",
      "6/6 [==============================] - 0s 7ms/step - loss: 9066005.0000 - mae: 3009.2756 - val_loss: 9109333.0000 - val_mae: 3015.2510\n",
      "Epoch 27/3000\n",
      "6/6 [==============================] - 0s 7ms/step - loss: 8866518.0000 - mae: 2975.9968 - val_loss: 8910712.0000 - val_mae: 2982.1794\n",
      "Epoch 28/3000\n",
      "6/6 [==============================] - 0s 8ms/step - loss: 8671197.0000 - mae: 2942.9897 - val_loss: 8715697.0000 - val_mae: 2949.3464\n",
      "Epoch 29/3000\n",
      "6/6 [==============================] - 0s 8ms/step - loss: 8479312.0000 - mae: 2910.2446 - val_loss: 8524295.0000 - val_mae: 2916.7620\n",
      "Epoch 30/3000\n",
      "6/6 [==============================] - 0s 7ms/step - loss: 8291091.5000 - mae: 2877.7612 - val_loss: 8336412.0000 - val_mae: 2884.4187\n",
      "Epoch 31/3000\n",
      "6/6 [==============================] - 0s 7ms/step - loss: 8106334.5000 - mae: 2845.5029 - val_loss: 8151825.0000 - val_mae: 2852.2886\n",
      "Epoch 32/3000\n",
      "6/6 [==============================] - 0s 7ms/step - loss: 7925028.5000 - mae: 2813.4934 - val_loss: 7970615.0000 - val_mae: 2820.3906\n",
      "Epoch 33/3000\n",
      "6/6 [==============================] - 0s 7ms/step - loss: 7747185.5000 - mae: 2781.7173 - val_loss: 7792829.5000 - val_mae: 2788.7415\n",
      "Epoch 34/3000\n",
      "6/6 [==============================] - 0s 7ms/step - loss: 7572696.0000 - mae: 2750.2651 - val_loss: 7619840.0000 - val_mae: 2757.5977\n",
      "Epoch 35/3000\n",
      "6/6 [==============================] - 0s 7ms/step - loss: 7403988.0000 - mae: 2719.3833 - val_loss: 7451692.5000 - val_mae: 2726.9827\n",
      "Epoch 36/3000\n",
      "6/6 [==============================] - 0s 7ms/step - loss: 7239757.0000 - mae: 2689.0823 - val_loss: 7288292.0000 - val_mae: 2696.8989\n",
      "Epoch 37/3000\n",
      "6/6 [==============================] - 0s 7ms/step - loss: 7079380.5000 - mae: 2659.1082 - val_loss: 7127987.5000 - val_mae: 2667.0540\n",
      "Epoch 38/3000\n",
      "6/6 [==============================] - 0s 7ms/step - loss: 6921523.0000 - mae: 2629.3105 - val_loss: 6970538.0000 - val_mae: 2637.4126\n",
      "Epoch 39/3000\n",
      "6/6 [==============================] - 0s 8ms/step - loss: 6766920.0000 - mae: 2599.7280 - val_loss: 6815599.0000 - val_mae: 2607.9150\n",
      "Epoch 40/3000\n",
      "6/6 [==============================] - 0s 8ms/step - loss: 6614607.5000 - mae: 2570.2349 - val_loss: 6662182.0000 - val_mae: 2578.3606\n",
      "Epoch 41/3000\n",
      "6/6 [==============================] - 0s 8ms/step - loss: 6462146.5000 - mae: 2540.4216 - val_loss: 6507520.5000 - val_mae: 2548.2068\n",
      "Epoch 42/3000\n",
      "6/6 [==============================] - 0s 8ms/step - loss: 6303195.0000 - mae: 2508.9993 - val_loss: 6344675.5000 - val_mae: 2516.0820\n",
      "Epoch 43/3000\n",
      "6/6 [==============================] - 0s 7ms/step - loss: 6140041.0000 - mae: 2476.2798 - val_loss: 6180091.0000 - val_mae: 2483.2046\n",
      "Epoch 44/3000\n",
      "6/6 [==============================] - 0s 8ms/step - loss: 5978033.5000 - mae: 2443.4077 - val_loss: 6018424.0000 - val_mae: 2450.4819\n",
      "Epoch 45/3000\n",
      "6/6 [==============================] - 0s 8ms/step - loss: 5819907.5000 - mae: 2410.8286 - val_loss: 5860252.0000 - val_mae: 2418.0393\n",
      "Epoch 46/3000\n",
      "6/6 [==============================] - 0s 8ms/step - loss: 5665469.0000 - mae: 2378.5637 - val_loss: 5705985.0000 - val_mae: 2385.9734\n",
      "Epoch 47/3000\n",
      "6/6 [==============================] - 0s 8ms/step - loss: 5514342.0000 - mae: 2346.6592 - val_loss: 5555976.5000 - val_mae: 2354.3733\n",
      "Epoch 48/3000\n",
      "6/6 [==============================] - 0s 8ms/step - loss: 5367629.5000 - mae: 2315.2097 - val_loss: 5409656.0000 - val_mae: 2323.1357\n",
      "Epoch 49/3000\n",
      "6/6 [==============================] - 0s 7ms/step - loss: 5224941.0000 - mae: 2284.1365 - val_loss: 5266725.5000 - val_mae: 2292.2107\n",
      "Epoch 50/3000\n",
      "6/6 [==============================] - 0s 7ms/step - loss: 5084966.0000 - mae: 2253.3416 - val_loss: 5127505.0000 - val_mae: 2261.6814\n",
      "Epoch 51/3000\n",
      "6/6 [==============================] - 0s 7ms/step - loss: 4948620.0000 - mae: 2222.9441 - val_loss: 4991653.5000 - val_mae: 2231.4888\n",
      "Epoch 52/3000\n",
      "6/6 [==============================] - 0s 7ms/step - loss: 4815781.5000 - mae: 2192.8616 - val_loss: 4858913.0000 - val_mae: 2201.5869\n",
      "Epoch 53/3000\n",
      "6/6 [==============================] - 0s 7ms/step - loss: 4685871.0000 - mae: 2163.0747 - val_loss: 4729235.5000 - val_mae: 2171.9783\n",
      "Epoch 54/3000\n",
      "6/6 [==============================] - 0s 7ms/step - loss: 4559382.0000 - mae: 2133.6184 - val_loss: 4602562.5000 - val_mae: 2142.6587\n",
      "Epoch 55/3000\n",
      "6/6 [==============================] - 0s 7ms/step - loss: 4435733.0000 - mae: 2104.4167 - val_loss: 4479083.5000 - val_mae: 2113.6846\n",
      "Epoch 56/3000\n",
      "6/6 [==============================] - 0s 8ms/step - loss: 4314669.0000 - mae: 2075.5820 - val_loss: 4359824.0000 - val_mae: 2085.3176\n",
      "Epoch 57/3000\n",
      "6/6 [==============================] - 0s 7ms/step - loss: 4197907.5000 - mae: 2047.2607 - val_loss: 4245710.5000 - val_mae: 2057.7981\n",
      "Epoch 58/3000\n",
      "6/6 [==============================] - 0s 7ms/step - loss: 4086715.7500 - mae: 2019.9149 - val_loss: 4137142.2500 - val_mae: 2031.2631\n",
      "Epoch 59/3000\n",
      "6/6 [==============================] - 0s 7ms/step - loss: 3981091.0000 - mae: 1993.5652 - val_loss: 4032608.7500 - val_mae: 2005.3894\n",
      "Epoch 60/3000\n",
      "6/6 [==============================] - 0s 8ms/step - loss: 3878815.5000 - mae: 1967.7711 - val_loss: 3930927.5000 - val_mae: 1979.9037\n",
      "Epoch 61/3000\n",
      "6/6 [==============================] - 0s 8ms/step - loss: 3779344.7500 - mae: 1942.3462 - val_loss: 3831467.5000 - val_mae: 1954.6554\n",
      "Epoch 62/3000\n",
      "6/6 [==============================] - 0s 8ms/step - loss: 3681924.2500 - mae: 1917.1172 - val_loss: 3734190.2500 - val_mae: 1929.6438\n",
      "Epoch 63/3000\n",
      "6/6 [==============================] - 0s 8ms/step - loss: 3586824.0000 - mae: 1892.1707 - val_loss: 3639140.0000 - val_mae: 1904.8878\n",
      "Epoch 64/3000\n",
      "6/6 [==============================] - 0s 8ms/step - loss: 3493861.0000 - mae: 1867.4559 - val_loss: 3546220.7500 - val_mae: 1880.3722\n",
      "Epoch 65/3000\n",
      "6/6 [==============================] - 0s 8ms/step - loss: 3402973.5000 - mae: 1843.0001 - val_loss: 3455423.5000 - val_mae: 1856.1034\n",
      "Epoch 66/3000\n",
      "6/6 [==============================] - 0s 7ms/step - loss: 3314503.0000 - mae: 1818.7876 - val_loss: 3366377.7500 - val_mae: 1831.9922\n",
      "Epoch 67/3000\n",
      "6/6 [==============================] - 0s 8ms/step - loss: 3227427.0000 - mae: 1794.7512 - val_loss: 3279390.7500 - val_mae: 1808.1281\n",
      "Epoch 68/3000\n",
      "6/6 [==============================] - 0s 8ms/step - loss: 3142611.5000 - mae: 1770.9601 - val_loss: 3194312.2500 - val_mae: 1784.4790\n",
      "Epoch 69/3000\n",
      "6/6 [==============================] - 0s 8ms/step - loss: 3059751.5000 - mae: 1747.3887 - val_loss: 3111070.2500 - val_mae: 1761.0328\n",
      "Epoch 70/3000\n",
      "6/6 [==============================] - 0s 8ms/step - loss: 2978450.5000 - mae: 1724.0265 - val_loss: 3029850.2500 - val_mae: 1737.8513\n",
      "Epoch 71/3000\n",
      "6/6 [==============================] - 0s 8ms/step - loss: 2899226.2500 - mae: 1700.9109 - val_loss: 2950483.7500 - val_mae: 1714.8962\n",
      "Epoch 72/3000\n",
      "6/6 [==============================] - 0s 9ms/step - loss: 2821895.5000 - mae: 1678.0377 - val_loss: 2872821.2500 - val_mae: 1692.1331\n",
      "Epoch 73/3000\n",
      "6/6 [==============================] - 0s 7ms/step - loss: 2746220.5000 - mae: 1655.3605 - val_loss: 2796792.2500 - val_mae: 1669.5487\n",
      "Epoch 74/3000\n",
      "6/6 [==============================] - 0s 8ms/step - loss: 2672066.0000 - mae: 1632.8391 - val_loss: 2722419.2500 - val_mae: 1647.1570\n",
      "Epoch 75/3000\n",
      "6/6 [==============================] - 0s 7ms/step - loss: 2599595.5000 - mae: 1610.4706 - val_loss: 2649597.5000 - val_mae: 1624.9335\n",
      "Epoch 76/3000\n",
      "6/6 [==============================] - 0s 8ms/step - loss: 2528609.5000 - mae: 1588.3441 - val_loss: 2578373.2500 - val_mae: 1602.8990\n",
      "Epoch 77/3000\n",
      "6/6 [==============================] - 0s 8ms/step - loss: 2459317.5000 - mae: 1566.3651 - val_loss: 2508579.2500 - val_mae: 1581.0094\n",
      "Epoch 78/3000\n",
      "6/6 [==============================] - 0s 8ms/step - loss: 2391355.7500 - mae: 1544.5137 - val_loss: 2440273.7500 - val_mae: 1559.2894\n",
      "Epoch 79/3000\n",
      "6/6 [==============================] - 0s 7ms/step - loss: 2324929.5000 - mae: 1522.8844 - val_loss: 2373426.0000 - val_mae: 1537.7360\n",
      "Epoch 80/3000\n",
      "6/6 [==============================] - 0s 8ms/step - loss: 2259865.2500 - mae: 1501.3942 - val_loss: 2308066.0000 - val_mae: 1516.3657\n",
      "Epoch 81/3000\n",
      "6/6 [==============================] - 0s 7ms/step - loss: 2196377.2500 - mae: 1480.0801 - val_loss: 2244078.2500 - val_mae: 1495.1487\n",
      "Epoch 82/3000\n",
      "6/6 [==============================] - 0s 8ms/step - loss: 2134134.5000 - mae: 1458.9277 - val_loss: 2181543.7500 - val_mae: 1474.1190\n",
      "Epoch 83/3000\n",
      "6/6 [==============================] - 0s 7ms/step - loss: 2073265.0000 - mae: 1437.9735 - val_loss: 2120432.7500 - val_mae: 1453.2740\n",
      "Epoch 84/3000\n",
      "6/6 [==============================] - 0s 7ms/step - loss: 2013967.3750 - mae: 1417.1578 - val_loss: 2060562.5000 - val_mae: 1432.5587\n",
      "Epoch 85/3000\n",
      "6/6 [==============================] - 0s 7ms/step - loss: 1955836.3750 - mae: 1396.5303 - val_loss: 2002038.6250 - val_mae: 1412.0148\n",
      "Epoch 86/3000\n",
      "6/6 [==============================] - 0s 7ms/step - loss: 1899088.6250 - mae: 1376.0541 - val_loss: 1944829.3750 - val_mae: 1391.6390\n",
      "Epoch 87/3000\n",
      "6/6 [==============================] - 0s 7ms/step - loss: 1843533.5000 - mae: 1355.7428 - val_loss: 1888980.5000 - val_mae: 1371.4565\n",
      "Epoch 88/3000\n",
      "6/6 [==============================] - 0s 7ms/step - loss: 1789386.3750 - mae: 1335.6136 - val_loss: 1834383.0000 - val_mae: 1351.4347\n",
      "Epoch 89/3000\n",
      "6/6 [==============================] - 0s 8ms/step - loss: 1736411.1250 - mae: 1315.6727 - val_loss: 1781069.1250 - val_mae: 1331.5934\n",
      "Epoch 90/3000\n",
      "6/6 [==============================] - 0s 7ms/step - loss: 1684632.1250 - mae: 1295.8892 - val_loss: 1729005.7500 - val_mae: 1311.9275\n",
      "Epoch 91/3000\n",
      "6/6 [==============================] - 0s 8ms/step - loss: 1634356.7500 - mae: 1276.3038 - val_loss: 1678026.3750 - val_mae: 1292.3811\n",
      "Epoch 92/3000\n",
      "6/6 [==============================] - 0s 7ms/step - loss: 1584888.6250 - mae: 1256.8240 - val_loss: 1628367.7500 - val_mae: 1273.0527\n",
      "Epoch 93/3000\n",
      "6/6 [==============================] - 0s 8ms/step - loss: 1536853.3750 - mae: 1237.5353 - val_loss: 1579835.1250 - val_mae: 1253.8752\n",
      "Epoch 94/3000\n",
      "6/6 [==============================] - 0s 8ms/step - loss: 1489798.6250 - mae: 1218.4327 - val_loss: 1532502.6250 - val_mae: 1234.8854\n",
      "Epoch 95/3000\n",
      "6/6 [==============================] - 0s 8ms/step - loss: 1444064.1250 - mae: 1199.4946 - val_loss: 1486230.7500 - val_mae: 1216.0347\n",
      "Epoch 96/3000\n",
      "6/6 [==============================] - 0s 10ms/step - loss: 1399259.1250 - mae: 1180.7119 - val_loss: 1441108.3750 - val_mae: 1197.3667\n",
      "Epoch 97/3000\n",
      "6/6 [==============================] - 0s 8ms/step - loss: 1355708.6250 - mae: 1162.1060 - val_loss: 1397054.0000 - val_mae: 1178.8555\n",
      "Epoch 98/3000\n",
      "6/6 [==============================] - 0s 7ms/step - loss: 1313135.3750 - mae: 1143.6871 - val_loss: 1354145.5000 - val_mae: 1160.5421\n",
      "Epoch 99/3000\n",
      "6/6 [==============================] - 0s 7ms/step - loss: 1271628.1250 - mae: 1125.4354 - val_loss: 1312366.1250 - val_mae: 1142.4299\n",
      "Epoch 100/3000\n",
      "6/6 [==============================] - 0s 7ms/step - loss: 1231445.5000 - mae: 1107.3914 - val_loss: 1271538.2500 - val_mae: 1124.4484\n",
      "Epoch 101/3000\n",
      "6/6 [==============================] - 0s 7ms/step - loss: 1192149.1250 - mae: 1089.5186 - val_loss: 1231824.3750 - val_mae: 1106.6774\n",
      "Epoch 102/3000\n",
      "6/6 [==============================] - 0s 7ms/step - loss: 1153862.5000 - mae: 1071.8291 - val_loss: 1193196.7500 - val_mae: 1089.1141\n",
      "Epoch 103/3000\n",
      "6/6 [==============================] - 0s 8ms/step - loss: 1116639.1250 - mae: 1054.3557 - val_loss: 1155581.6250 - val_mae: 1071.7349\n",
      "Epoch 104/3000\n",
      "6/6 [==============================] - 0s 8ms/step - loss: 1080463.0000 - mae: 1037.0376 - val_loss: 1118929.3750 - val_mae: 1054.5248\n",
      "Epoch 105/3000\n",
      "6/6 [==============================] - 0s 8ms/step - loss: 1045253.0625 - mae: 1019.9172 - val_loss: 1083219.7500 - val_mae: 1037.4827\n",
      "Epoch 106/3000\n",
      "6/6 [==============================] - 0s 7ms/step - loss: 1010919.2500 - mae: 1002.9689 - val_loss: 1048477.2500 - val_mae: 1020.6285\n",
      "Epoch 107/3000\n",
      "6/6 [==============================] - 0s 7ms/step - loss: 977582.5000 - mae: 986.1886 - val_loss: 1014638.1250 - val_mae: 1003.9407\n",
      "Epoch 108/3000\n",
      "6/6 [==============================] - 0s 8ms/step - loss: 945061.6875 - mae: 969.5934 - val_loss: 981734.8750 - val_mae: 987.4434\n",
      "Epoch 109/3000\n",
      "6/6 [==============================] - 0s 7ms/step - loss: 913478.6250 - mae: 953.1545 - val_loss: 949706.8750 - val_mae: 971.1163\n",
      "Epoch 110/3000\n",
      "6/6 [==============================] - 0s 9ms/step - loss: 882654.1875 - mae: 936.9138 - val_loss: 918608.6250 - val_mae: 954.9954\n",
      "Epoch 111/3000\n",
      "6/6 [==============================] - 0s 8ms/step - loss: 852901.5000 - mae: 920.8414 - val_loss: 888270.0625 - val_mae: 939.0023\n",
      "Epoch 112/3000\n",
      "6/6 [==============================] - 0s 8ms/step - loss: 823796.4375 - mae: 904.9244 - val_loss: 858787.8125 - val_mae: 923.1949\n",
      "Epoch 113/3000\n",
      "6/6 [==============================] - 0s 9ms/step - loss: 795584.3750 - mae: 889.1595 - val_loss: 830094.6875 - val_mae: 907.5463\n",
      "Epoch 114/3000\n",
      "6/6 [==============================] - 0s 8ms/step - loss: 768130.5625 - mae: 873.5835 - val_loss: 802209.6250 - val_mae: 892.0751\n",
      "Epoch 115/3000\n",
      "6/6 [==============================] - 0s 8ms/step - loss: 741350.5000 - mae: 858.2108 - val_loss: 775186.4375 - val_mae: 876.8214\n",
      "Epoch 116/3000\n",
      "6/6 [==============================] - 0s 8ms/step - loss: 715494.1875 - mae: 842.9899 - val_loss: 748882.3750 - val_mae: 861.7147\n",
      "Epoch 117/3000\n",
      "6/6 [==============================] - 0s 8ms/step - loss: 690362.1875 - mae: 827.9208 - val_loss: 723300.9375 - val_mae: 846.7646\n",
      "Epoch 118/3000\n",
      "6/6 [==============================] - 0s 8ms/step - loss: 665967.5000 - mae: 813.0583 - val_loss: 698428.1250 - val_mae: 831.9709\n",
      "Epoch 119/3000\n",
      "6/6 [==============================] - 0s 7ms/step - loss: 642147.2500 - mae: 798.3369 - val_loss: 674337.3125 - val_mae: 817.3874\n",
      "Epoch 120/3000\n",
      "6/6 [==============================] - 0s 8ms/step - loss: 619180.5000 - mae: 783.8074 - val_loss: 650905.8750 - val_mae: 802.9490\n",
      "Epoch 121/3000\n",
      "6/6 [==============================] - 0s 7ms/step - loss: 596863.5000 - mae: 769.4258 - val_loss: 628151.0000 - val_mae: 788.6744\n",
      "Epoch 122/3000\n",
      "6/6 [==============================] - 0s 7ms/step - loss: 575150.0625 - mae: 755.2205 - val_loss: 606096.3125 - val_mae: 774.5883\n",
      "Epoch 123/3000\n",
      "6/6 [==============================] - 0s 7ms/step - loss: 554160.5000 - mae: 741.1928 - val_loss: 584680.6250 - val_mae: 760.6609\n",
      "Epoch 124/3000\n",
      "6/6 [==============================] - 0s 7ms/step - loss: 533818.2500 - mae: 727.3367 - val_loss: 563895.1875 - val_mae: 746.8952\n",
      "Epoch 125/3000\n",
      "1/6 [====>.........................] - ETA: 0s - loss: 517022.3125 - mae: 714.4470"
     ]
    },
    {
     "ename": "KeyboardInterrupt",
     "evalue": "",
     "output_type": "error",
     "traceback": [
      "\u001b[1;31m---------------------------------------------------------------------------\u001b[0m",
      "\u001b[1;31mKeyboardInterrupt\u001b[0m                         Traceback (most recent call last)",
      "\u001b[1;32mc:\\Users\\bruno\\Documents\\Proyectos\\nasdaq-index-rn\\src\\tests.ipynb Celda 10\u001b[0m in \u001b[0;36m<cell line: 16>\u001b[1;34m()\u001b[0m\n\u001b[0;32m     <a href='vscode-notebook-cell:/c%3A/Users/bruno/Documents/Proyectos/nasdaq-index-rn/src/tests.ipynb#X12sZmlsZQ%3D%3D?line=13'>14</a>\u001b[0m \u001b[39mprint\u001b[39m(model\u001b[39m.\u001b[39msummary())\n\u001b[0;32m     <a href='vscode-notebook-cell:/c%3A/Users/bruno/Documents/Proyectos/nasdaq-index-rn/src/tests.ipynb#X12sZmlsZQ%3D%3D?line=14'>15</a>\u001b[0m \u001b[39mprint\u001b[39m(\u001b[39m\"\u001b[39m\u001b[39mComenzando entrenamiento...\u001b[39m\u001b[39m\"\u001b[39m)\n\u001b[1;32m---> <a href='vscode-notebook-cell:/c%3A/Users/bruno/Documents/Proyectos/nasdaq-index-rn/src/tests.ipynb#X12sZmlsZQ%3D%3D?line=15'>16</a>\u001b[0m historial \u001b[39m=\u001b[39m model\u001b[39m.\u001b[39;49mfit(training_inputs, training_outputs, epochs\u001b[39m=\u001b[39;49m\u001b[39m3000\u001b[39;49m ,verbose\u001b[39m=\u001b[39;49m\u001b[39m1\u001b[39;49m, validation_data\u001b[39m=\u001b[39;49m(validation_inputs, validation_outputs))\n\u001b[0;32m     <a href='vscode-notebook-cell:/c%3A/Users/bruno/Documents/Proyectos/nasdaq-index-rn/src/tests.ipynb#X12sZmlsZQ%3D%3D?line=16'>17</a>\u001b[0m \u001b[39mprint\u001b[39m(\u001b[39m\"\u001b[39m\u001b[39mModelo entrenado!\u001b[39m\u001b[39m\"\u001b[39m)\n\u001b[0;32m     <a href='vscode-notebook-cell:/c%3A/Users/bruno/Documents/Proyectos/nasdaq-index-rn/src/tests.ipynb#X12sZmlsZQ%3D%3D?line=17'>18</a>\u001b[0m \u001b[39mprint\u001b[39m(\u001b[39m\"\u001b[39m\u001b[39mGuardando modelo...\u001b[39m\u001b[39m\"\u001b[39m)\n",
      "File \u001b[1;32mc:\\Users\\bruno\\AppData\\Local\\Programs\\Python\\Python310\\lib\\site-packages\\keras\\utils\\traceback_utils.py:64\u001b[0m, in \u001b[0;36mfilter_traceback.<locals>.error_handler\u001b[1;34m(*args, **kwargs)\u001b[0m\n\u001b[0;32m     62\u001b[0m filtered_tb \u001b[39m=\u001b[39m \u001b[39mNone\u001b[39;00m\n\u001b[0;32m     63\u001b[0m \u001b[39mtry\u001b[39;00m:\n\u001b[1;32m---> 64\u001b[0m   \u001b[39mreturn\u001b[39;00m fn(\u001b[39m*\u001b[39margs, \u001b[39m*\u001b[39m\u001b[39m*\u001b[39mkwargs)\n\u001b[0;32m     65\u001b[0m \u001b[39mexcept\u001b[39;00m \u001b[39mException\u001b[39;00m \u001b[39mas\u001b[39;00m e:  \u001b[39m# pylint: disable=broad-except\u001b[39;00m\n\u001b[0;32m     66\u001b[0m   filtered_tb \u001b[39m=\u001b[39m _process_traceback_frames(e\u001b[39m.\u001b[39m__traceback__)\n",
      "File \u001b[1;32mc:\\Users\\bruno\\AppData\\Local\\Programs\\Python\\Python310\\lib\\site-packages\\keras\\engine\\training.py:1445\u001b[0m, in \u001b[0;36mModel.fit\u001b[1;34m(self, x, y, batch_size, epochs, verbose, callbacks, validation_split, validation_data, shuffle, class_weight, sample_weight, initial_epoch, steps_per_epoch, validation_steps, validation_batch_size, validation_freq, max_queue_size, workers, use_multiprocessing)\u001b[0m\n\u001b[0;32m   1431\u001b[0m \u001b[39mif\u001b[39;00m \u001b[39mgetattr\u001b[39m(\u001b[39mself\u001b[39m, \u001b[39m'\u001b[39m\u001b[39m_eval_data_handler\u001b[39m\u001b[39m'\u001b[39m, \u001b[39mNone\u001b[39;00m) \u001b[39mis\u001b[39;00m \u001b[39mNone\u001b[39;00m:\n\u001b[0;32m   1432\u001b[0m   \u001b[39mself\u001b[39m\u001b[39m.\u001b[39m_eval_data_handler \u001b[39m=\u001b[39m data_adapter\u001b[39m.\u001b[39mget_data_handler(\n\u001b[0;32m   1433\u001b[0m       x\u001b[39m=\u001b[39mval_x,\n\u001b[0;32m   1434\u001b[0m       y\u001b[39m=\u001b[39mval_y,\n\u001b[1;32m   (...)\u001b[0m\n\u001b[0;32m   1443\u001b[0m       model\u001b[39m=\u001b[39m\u001b[39mself\u001b[39m,\n\u001b[0;32m   1444\u001b[0m       steps_per_execution\u001b[39m=\u001b[39m\u001b[39mself\u001b[39m\u001b[39m.\u001b[39m_steps_per_execution)\n\u001b[1;32m-> 1445\u001b[0m val_logs \u001b[39m=\u001b[39m \u001b[39mself\u001b[39;49m\u001b[39m.\u001b[39;49mevaluate(\n\u001b[0;32m   1446\u001b[0m     x\u001b[39m=\u001b[39;49mval_x,\n\u001b[0;32m   1447\u001b[0m     y\u001b[39m=\u001b[39;49mval_y,\n\u001b[0;32m   1448\u001b[0m     sample_weight\u001b[39m=\u001b[39;49mval_sample_weight,\n\u001b[0;32m   1449\u001b[0m     batch_size\u001b[39m=\u001b[39;49mvalidation_batch_size \u001b[39mor\u001b[39;49;00m batch_size,\n\u001b[0;32m   1450\u001b[0m     steps\u001b[39m=\u001b[39;49mvalidation_steps,\n\u001b[0;32m   1451\u001b[0m     callbacks\u001b[39m=\u001b[39;49mcallbacks,\n\u001b[0;32m   1452\u001b[0m     max_queue_size\u001b[39m=\u001b[39;49mmax_queue_size,\n\u001b[0;32m   1453\u001b[0m     workers\u001b[39m=\u001b[39;49mworkers,\n\u001b[0;32m   1454\u001b[0m     use_multiprocessing\u001b[39m=\u001b[39;49muse_multiprocessing,\n\u001b[0;32m   1455\u001b[0m     return_dict\u001b[39m=\u001b[39;49m\u001b[39mTrue\u001b[39;49;00m,\n\u001b[0;32m   1456\u001b[0m     _use_cached_eval_dataset\u001b[39m=\u001b[39;49m\u001b[39mTrue\u001b[39;49;00m)\n\u001b[0;32m   1457\u001b[0m val_logs \u001b[39m=\u001b[39m {\u001b[39m'\u001b[39m\u001b[39mval_\u001b[39m\u001b[39m'\u001b[39m \u001b[39m+\u001b[39m name: val \u001b[39mfor\u001b[39;00m name, val \u001b[39min\u001b[39;00m val_logs\u001b[39m.\u001b[39mitems()}\n\u001b[0;32m   1458\u001b[0m epoch_logs\u001b[39m.\u001b[39mupdate(val_logs)\n",
      "File \u001b[1;32mc:\\Users\\bruno\\AppData\\Local\\Programs\\Python\\Python310\\lib\\site-packages\\keras\\utils\\traceback_utils.py:64\u001b[0m, in \u001b[0;36mfilter_traceback.<locals>.error_handler\u001b[1;34m(*args, **kwargs)\u001b[0m\n\u001b[0;32m     62\u001b[0m filtered_tb \u001b[39m=\u001b[39m \u001b[39mNone\u001b[39;00m\n\u001b[0;32m     63\u001b[0m \u001b[39mtry\u001b[39;00m:\n\u001b[1;32m---> 64\u001b[0m   \u001b[39mreturn\u001b[39;00m fn(\u001b[39m*\u001b[39margs, \u001b[39m*\u001b[39m\u001b[39m*\u001b[39mkwargs)\n\u001b[0;32m     65\u001b[0m \u001b[39mexcept\u001b[39;00m \u001b[39mException\u001b[39;00m \u001b[39mas\u001b[39;00m e:  \u001b[39m# pylint: disable=broad-except\u001b[39;00m\n\u001b[0;32m     66\u001b[0m   filtered_tb \u001b[39m=\u001b[39m _process_traceback_frames(e\u001b[39m.\u001b[39m__traceback__)\n",
      "File \u001b[1;32mc:\\Users\\bruno\\AppData\\Local\\Programs\\Python\\Python310\\lib\\site-packages\\keras\\engine\\training.py:1750\u001b[0m, in \u001b[0;36mModel.evaluate\u001b[1;34m(self, x, y, batch_size, verbose, sample_weight, steps, callbacks, max_queue_size, workers, use_multiprocessing, return_dict, **kwargs)\u001b[0m\n\u001b[0;32m   1748\u001b[0m \u001b[39mself\u001b[39m\u001b[39m.\u001b[39m_test_counter\u001b[39m.\u001b[39massign(\u001b[39m0\u001b[39m)\n\u001b[0;32m   1749\u001b[0m callbacks\u001b[39m.\u001b[39mon_test_begin()\n\u001b[1;32m-> 1750\u001b[0m \u001b[39mfor\u001b[39;00m _, iterator \u001b[39min\u001b[39;00m data_handler\u001b[39m.\u001b[39menumerate_epochs():  \u001b[39m# Single epoch.\u001b[39;00m\n\u001b[0;32m   1751\u001b[0m   \u001b[39mself\u001b[39m\u001b[39m.\u001b[39mreset_metrics()\n\u001b[0;32m   1752\u001b[0m   \u001b[39mwith\u001b[39;00m data_handler\u001b[39m.\u001b[39mcatch_stop_iteration():\n",
      "File \u001b[1;32mc:\\Users\\bruno\\AppData\\Local\\Programs\\Python\\Python310\\lib\\site-packages\\keras\\engine\\data_adapter.py:1198\u001b[0m, in \u001b[0;36mDataHandler.enumerate_epochs\u001b[1;34m(self)\u001b[0m\n\u001b[0;32m   1196\u001b[0m   \u001b[39mbreak\u001b[39;00m\n\u001b[0;32m   1197\u001b[0m \u001b[39mif\u001b[39;00m \u001b[39mself\u001b[39m\u001b[39m.\u001b[39m_adapter\u001b[39m.\u001b[39mshould_recreate_iterator():\n\u001b[1;32m-> 1198\u001b[0m   data_iterator \u001b[39m=\u001b[39m \u001b[39miter\u001b[39;49m(\u001b[39mself\u001b[39;49m\u001b[39m.\u001b[39;49m_dataset)\n\u001b[0;32m   1199\u001b[0m \u001b[39myield\u001b[39;00m epoch, data_iterator\n\u001b[0;32m   1200\u001b[0m \u001b[39mself\u001b[39m\u001b[39m.\u001b[39m_adapter\u001b[39m.\u001b[39mon_epoch_end()\n",
      "File \u001b[1;32mc:\\Users\\bruno\\AppData\\Local\\Programs\\Python\\Python310\\lib\\site-packages\\tensorflow\\python\\data\\ops\\dataset_ops.py:494\u001b[0m, in \u001b[0;36mDatasetV2.__iter__\u001b[1;34m(self)\u001b[0m\n\u001b[0;32m    492\u001b[0m \u001b[39mif\u001b[39;00m context\u001b[39m.\u001b[39mexecuting_eagerly() \u001b[39mor\u001b[39;00m ops\u001b[39m.\u001b[39minside_function():\n\u001b[0;32m    493\u001b[0m   \u001b[39mwith\u001b[39;00m ops\u001b[39m.\u001b[39mcolocate_with(\u001b[39mself\u001b[39m\u001b[39m.\u001b[39m_variant_tensor):\n\u001b[1;32m--> 494\u001b[0m     \u001b[39mreturn\u001b[39;00m iterator_ops\u001b[39m.\u001b[39;49mOwnedIterator(\u001b[39mself\u001b[39;49m)\n\u001b[0;32m    495\u001b[0m \u001b[39melse\u001b[39;00m:\n\u001b[0;32m    496\u001b[0m   \u001b[39mraise\u001b[39;00m \u001b[39mRuntimeError\u001b[39;00m(\u001b[39m\"\u001b[39m\u001b[39m`tf.data.Dataset` only supports Python-style \u001b[39m\u001b[39m\"\u001b[39m\n\u001b[0;32m    497\u001b[0m                      \u001b[39m\"\u001b[39m\u001b[39miteration in eager mode or within tf.function.\u001b[39m\u001b[39m\"\u001b[39m)\n",
      "File \u001b[1;32mc:\\Users\\bruno\\AppData\\Local\\Programs\\Python\\Python310\\lib\\site-packages\\tensorflow\\python\\data\\ops\\iterator_ops.py:696\u001b[0m, in \u001b[0;36mOwnedIterator.__init__\u001b[1;34m(self, dataset, components, element_spec)\u001b[0m\n\u001b[0;32m    692\u001b[0m   \u001b[39mif\u001b[39;00m (components \u001b[39mis\u001b[39;00m \u001b[39mnot\u001b[39;00m \u001b[39mNone\u001b[39;00m \u001b[39mor\u001b[39;00m element_spec \u001b[39mis\u001b[39;00m \u001b[39mnot\u001b[39;00m \u001b[39mNone\u001b[39;00m):\n\u001b[0;32m    693\u001b[0m     \u001b[39mraise\u001b[39;00m \u001b[39mValueError\u001b[39;00m(\n\u001b[0;32m    694\u001b[0m         \u001b[39m\"\u001b[39m\u001b[39mWhen `dataset` is provided, `element_spec` and `components` must \u001b[39m\u001b[39m\"\u001b[39m\n\u001b[0;32m    695\u001b[0m         \u001b[39m\"\u001b[39m\u001b[39mnot be specified.\u001b[39m\u001b[39m\"\u001b[39m)\n\u001b[1;32m--> 696\u001b[0m   \u001b[39mself\u001b[39;49m\u001b[39m.\u001b[39;49m_create_iterator(dataset)\n\u001b[0;32m    698\u001b[0m \u001b[39mself\u001b[39m\u001b[39m.\u001b[39m_get_next_call_count \u001b[39m=\u001b[39m \u001b[39m0\u001b[39m\n",
      "File \u001b[1;32mc:\\Users\\bruno\\AppData\\Local\\Programs\\Python\\Python310\\lib\\site-packages\\tensorflow\\python\\data\\ops\\iterator_ops.py:721\u001b[0m, in \u001b[0;36mOwnedIterator._create_iterator\u001b[1;34m(self, dataset)\u001b[0m\n\u001b[0;32m    716\u001b[0m \u001b[39mwith\u001b[39;00m ops\u001b[39m.\u001b[39mcolocate_with(ds_variant):\n\u001b[0;32m    717\u001b[0m   \u001b[39mself\u001b[39m\u001b[39m.\u001b[39m_iterator_resource \u001b[39m=\u001b[39m (\n\u001b[0;32m    718\u001b[0m       gen_dataset_ops\u001b[39m.\u001b[39manonymous_iterator_v3(\n\u001b[0;32m    719\u001b[0m           output_types\u001b[39m=\u001b[39m\u001b[39mself\u001b[39m\u001b[39m.\u001b[39m_flat_output_types,\n\u001b[0;32m    720\u001b[0m           output_shapes\u001b[39m=\u001b[39m\u001b[39mself\u001b[39m\u001b[39m.\u001b[39m_flat_output_shapes))\n\u001b[1;32m--> 721\u001b[0m   gen_dataset_ops\u001b[39m.\u001b[39;49mmake_iterator(ds_variant, \u001b[39mself\u001b[39;49m\u001b[39m.\u001b[39;49m_iterator_resource)\n",
      "File \u001b[1;32mc:\\Users\\bruno\\AppData\\Local\\Programs\\Python\\Python310\\lib\\site-packages\\tensorflow\\python\\ops\\gen_dataset_ops.py:3408\u001b[0m, in \u001b[0;36mmake_iterator\u001b[1;34m(dataset, iterator, name)\u001b[0m\n\u001b[0;32m   3406\u001b[0m \u001b[39mif\u001b[39;00m tld\u001b[39m.\u001b[39mis_eager:\n\u001b[0;32m   3407\u001b[0m   \u001b[39mtry\u001b[39;00m:\n\u001b[1;32m-> 3408\u001b[0m     _result \u001b[39m=\u001b[39m pywrap_tfe\u001b[39m.\u001b[39;49mTFE_Py_FastPathExecute(\n\u001b[0;32m   3409\u001b[0m       _ctx, \u001b[39m\"\u001b[39;49m\u001b[39mMakeIterator\u001b[39;49m\u001b[39m\"\u001b[39;49m, name, dataset, iterator)\n\u001b[0;32m   3410\u001b[0m     \u001b[39mreturn\u001b[39;00m _result\n\u001b[0;32m   3411\u001b[0m   \u001b[39mexcept\u001b[39;00m _core\u001b[39m.\u001b[39m_NotOkStatusException \u001b[39mas\u001b[39;00m e:\n",
      "\u001b[1;31mKeyboardInterrupt\u001b[0m: "
     ]
    }
   ],
   "source": [
    "model = tf.keras.Sequential()\n",
    "model.add(tf.keras.layers.Dense(50, input_dim=6, activation=tf.keras.activations.relu))\n",
    "model.add(tf.keras.layers.Dense(100, activation=tf.keras.activations.relu))\n",
    "model.add(tf.keras.layers.Dense(50, activation=tf.keras.activations.relu))\n",
    "model.add(tf.keras.layers.Dense(1))\n",
    "\n",
    "model.compile(\n",
    "    optimizer=tf.keras.optimizers.Adam(learning_rate=0.0001),\n",
    "    loss='mean_squared_error',\n",
    "    metrics=['mae']\n",
    ")\n",
    "\n",
    "print(\"Resumen del modelo:\")\n",
    "print(model.summary())\n",
    "print(\"Comenzando entrenamiento...\")\n",
    "historial = model.fit(training_inputs, training_outputs, epochs=3000 ,verbose=1, validation_data=(validation_inputs, validation_outputs))\n",
    "print(\"Modelo entrenado!\")\n",
    "print(\"Guardando modelo...\")\n",
    "model.save('models/model.h5', historial)"
   ]
  },
  {
   "cell_type": "markdown",
   "metadata": {},
   "source": [
    "Cargamos el modelo guardado"
   ]
  },
  {
   "cell_type": "code",
   "execution_count": 16,
   "metadata": {},
   "outputs": [
    {
     "name": "stdout",
     "output_type": "stream",
     "text": [
      "Cargando modelo...\n"
     ]
    }
   ],
   "source": [
    "print(\"Cargando modelo...\")\n",
    "model = tf.keras.models.load_model('models/model.h5')"
   ]
  },
  {
   "cell_type": "markdown",
   "metadata": {},
   "source": [
    "Ahora realizamos predicciones sobre el conjunto de testing y creamos un Dataset con los valores reales y la fecha."
   ]
  },
  {
   "cell_type": "code",
   "execution_count": 17,
   "metadata": {},
   "outputs": [
    {
     "name": "stdout",
     "output_type": "stream",
     "text": [
      "2/2 [==============================] - 0s 2ms/step\n"
     ]
    },
    {
     "ename": "ValueError",
     "evalue": "Length of values (1950) does not match length of index (39)",
     "output_type": "error",
     "traceback": [
      "\u001b[1;31m---------------------------------------------------------------------------\u001b[0m",
      "\u001b[1;31mValueError\u001b[0m                                Traceback (most recent call last)",
      "\u001b[1;32mc:\\Users\\bruno\\Documents\\Proyectos\\nasdaq-index-rn\\src\\tests.ipynb Celda 14\u001b[0m in \u001b[0;36m<cell line: 5>\u001b[1;34m()\u001b[0m\n\u001b[0;32m      <a href='vscode-notebook-cell:/c%3A/Users/bruno/Documents/Proyectos/nasdaq-index-rn/src/tests.ipynb#X16sZmlsZQ%3D%3D?line=2'>3</a>\u001b[0m results_df[\u001b[39m\"\u001b[39m\u001b[39mDate\u001b[39m\u001b[39m\"\u001b[39m] \u001b[39m=\u001b[39m test_days[\u001b[39m\"\u001b[39m\u001b[39mDate\u001b[39m\u001b[39m\"\u001b[39m]\u001b[39m.\u001b[39miloc[myTrainset\u001b[39m.\u001b[39mdias_hacia_atras:]\u001b[39m.\u001b[39mapply(\u001b[39mlambda\u001b[39;00m row: (pd\u001b[39m.\u001b[39mto_datetime(row))\u001b[39m.\u001b[39mstrftime(\u001b[39m\"\u001b[39m\u001b[39m%\u001b[39m\u001b[39mY-\u001b[39m\u001b[39m%\u001b[39m\u001b[39mm-\u001b[39m\u001b[39m%d\u001b[39;00m\u001b[39m\"\u001b[39m))\n\u001b[0;32m      <a href='vscode-notebook-cell:/c%3A/Users/bruno/Documents/Proyectos/nasdaq-index-rn/src/tests.ipynb#X16sZmlsZQ%3D%3D?line=3'>4</a>\u001b[0m results_df[\u001b[39m\"\u001b[39m\u001b[39mRealValue\u001b[39m\u001b[39m\"\u001b[39m] \u001b[39m=\u001b[39m test_days[\u001b[39m\"\u001b[39m\u001b[39mClose\u001b[39m\u001b[39m\"\u001b[39m]\u001b[39m.\u001b[39miloc[myTrainset\u001b[39m.\u001b[39mdias_hacia_atras:]\n\u001b[1;32m----> <a href='vscode-notebook-cell:/c%3A/Users/bruno/Documents/Proyectos/nasdaq-index-rn/src/tests.ipynb#X16sZmlsZQ%3D%3D?line=4'>5</a>\u001b[0m results_df[\u001b[39m\"\u001b[39m\u001b[39mPrediction\u001b[39m\u001b[39m\"\u001b[39m] \u001b[39m=\u001b[39m predictions\n",
      "File \u001b[1;32mc:\\Users\\bruno\\AppData\\Local\\Programs\\Python\\Python310\\lib\\site-packages\\pandas\\core\\frame.py:3655\u001b[0m, in \u001b[0;36mDataFrame.__setitem__\u001b[1;34m(self, key, value)\u001b[0m\n\u001b[0;32m   3652\u001b[0m     \u001b[39mself\u001b[39m\u001b[39m.\u001b[39m_setitem_array([key], value)\n\u001b[0;32m   3653\u001b[0m \u001b[39melse\u001b[39;00m:\n\u001b[0;32m   3654\u001b[0m     \u001b[39m# set column\u001b[39;00m\n\u001b[1;32m-> 3655\u001b[0m     \u001b[39mself\u001b[39;49m\u001b[39m.\u001b[39;49m_set_item(key, value)\n",
      "File \u001b[1;32mc:\\Users\\bruno\\AppData\\Local\\Programs\\Python\\Python310\\lib\\site-packages\\pandas\\core\\frame.py:3832\u001b[0m, in \u001b[0;36mDataFrame._set_item\u001b[1;34m(self, key, value)\u001b[0m\n\u001b[0;32m   3822\u001b[0m \u001b[39mdef\u001b[39;00m \u001b[39m_set_item\u001b[39m(\u001b[39mself\u001b[39m, key, value) \u001b[39m-\u001b[39m\u001b[39m>\u001b[39m \u001b[39mNone\u001b[39;00m:\n\u001b[0;32m   3823\u001b[0m     \u001b[39m\"\"\"\u001b[39;00m\n\u001b[0;32m   3824\u001b[0m \u001b[39m    Add series to DataFrame in specified column.\u001b[39;00m\n\u001b[0;32m   3825\u001b[0m \n\u001b[1;32m   (...)\u001b[0m\n\u001b[0;32m   3830\u001b[0m \u001b[39m    ensure homogeneity.\u001b[39;00m\n\u001b[0;32m   3831\u001b[0m \u001b[39m    \"\"\"\u001b[39;00m\n\u001b[1;32m-> 3832\u001b[0m     value \u001b[39m=\u001b[39m \u001b[39mself\u001b[39;49m\u001b[39m.\u001b[39;49m_sanitize_column(value)\n\u001b[0;32m   3834\u001b[0m     \u001b[39mif\u001b[39;00m (\n\u001b[0;32m   3835\u001b[0m         key \u001b[39min\u001b[39;00m \u001b[39mself\u001b[39m\u001b[39m.\u001b[39mcolumns\n\u001b[0;32m   3836\u001b[0m         \u001b[39mand\u001b[39;00m value\u001b[39m.\u001b[39mndim \u001b[39m==\u001b[39m \u001b[39m1\u001b[39m\n\u001b[0;32m   3837\u001b[0m         \u001b[39mand\u001b[39;00m \u001b[39mnot\u001b[39;00m is_extension_array_dtype(value)\n\u001b[0;32m   3838\u001b[0m     ):\n\u001b[0;32m   3839\u001b[0m         \u001b[39m# broadcast across multiple columns if necessary\u001b[39;00m\n\u001b[0;32m   3840\u001b[0m         \u001b[39mif\u001b[39;00m \u001b[39mnot\u001b[39;00m \u001b[39mself\u001b[39m\u001b[39m.\u001b[39mcolumns\u001b[39m.\u001b[39mis_unique \u001b[39mor\u001b[39;00m \u001b[39misinstance\u001b[39m(\u001b[39mself\u001b[39m\u001b[39m.\u001b[39mcolumns, MultiIndex):\n",
      "File \u001b[1;32mc:\\Users\\bruno\\AppData\\Local\\Programs\\Python\\Python310\\lib\\site-packages\\pandas\\core\\frame.py:4538\u001b[0m, in \u001b[0;36mDataFrame._sanitize_column\u001b[1;34m(self, value)\u001b[0m\n\u001b[0;32m   4535\u001b[0m     \u001b[39mreturn\u001b[39;00m _reindex_for_setitem(value, \u001b[39mself\u001b[39m\u001b[39m.\u001b[39mindex)\n\u001b[0;32m   4537\u001b[0m \u001b[39mif\u001b[39;00m is_list_like(value):\n\u001b[1;32m-> 4538\u001b[0m     com\u001b[39m.\u001b[39;49mrequire_length_match(value, \u001b[39mself\u001b[39;49m\u001b[39m.\u001b[39;49mindex)\n\u001b[0;32m   4539\u001b[0m \u001b[39mreturn\u001b[39;00m sanitize_array(value, \u001b[39mself\u001b[39m\u001b[39m.\u001b[39mindex, copy\u001b[39m=\u001b[39m\u001b[39mTrue\u001b[39;00m, allow_2d\u001b[39m=\u001b[39m\u001b[39mTrue\u001b[39;00m)\n",
      "File \u001b[1;32mc:\\Users\\bruno\\AppData\\Local\\Programs\\Python\\Python310\\lib\\site-packages\\pandas\\core\\common.py:557\u001b[0m, in \u001b[0;36mrequire_length_match\u001b[1;34m(data, index)\u001b[0m\n\u001b[0;32m    553\u001b[0m \u001b[39m\"\"\"\u001b[39;00m\n\u001b[0;32m    554\u001b[0m \u001b[39mCheck the length of data matches the length of the index.\u001b[39;00m\n\u001b[0;32m    555\u001b[0m \u001b[39m\"\"\"\u001b[39;00m\n\u001b[0;32m    556\u001b[0m \u001b[39mif\u001b[39;00m \u001b[39mlen\u001b[39m(data) \u001b[39m!=\u001b[39m \u001b[39mlen\u001b[39m(index):\n\u001b[1;32m--> 557\u001b[0m     \u001b[39mraise\u001b[39;00m \u001b[39mValueError\u001b[39;00m(\n\u001b[0;32m    558\u001b[0m         \u001b[39m\"\u001b[39m\u001b[39mLength of values \u001b[39m\u001b[39m\"\u001b[39m\n\u001b[0;32m    559\u001b[0m         \u001b[39mf\u001b[39m\u001b[39m\"\u001b[39m\u001b[39m(\u001b[39m\u001b[39m{\u001b[39;00m\u001b[39mlen\u001b[39m(data)\u001b[39m}\u001b[39;00m\u001b[39m) \u001b[39m\u001b[39m\"\u001b[39m\n\u001b[0;32m    560\u001b[0m         \u001b[39m\"\u001b[39m\u001b[39mdoes not match length of index \u001b[39m\u001b[39m\"\u001b[39m\n\u001b[0;32m    561\u001b[0m         \u001b[39mf\u001b[39m\u001b[39m\"\u001b[39m\u001b[39m(\u001b[39m\u001b[39m{\u001b[39;00m\u001b[39mlen\u001b[39m(index)\u001b[39m}\u001b[39;00m\u001b[39m)\u001b[39m\u001b[39m\"\u001b[39m\n\u001b[0;32m    562\u001b[0m     )\n",
      "\u001b[1;31mValueError\u001b[0m: Length of values (1950) does not match length of index (39)"
     ]
    }
   ],
   "source": [
    "predictions = [item for sublist in model.predict(test_inputs) for item in sublist]\n",
    "results_df = pd.DataFrame(columns=['Date', 'Prediction', 'RealValue'])\n",
    "results_df[\"Date\"] = test_days[\"Date\"].iloc[myTrainset.dias_hacia_atras:].apply(lambda row: (pd.to_datetime(row)).strftime(\"%Y-%m-%d\"))\n",
    "results_df[\"RealValue\"] = test_days[\"Close\"].iloc[myTrainset.dias_hacia_atras:]\n",
    "results_df[\"Prediction\"] = predictions\n"
   ]
  },
  {
   "cell_type": "markdown",
   "metadata": {},
   "source": [
    "Finalmente graficamos los resultados"
   ]
  },
  {
   "cell_type": "code",
   "execution_count": 14,
   "metadata": {},
   "outputs": [
    {
     "data": {
      "image/png": "[encoded data removed]",
      "text/plain": [
       "<Figure size 432x288 with 1 Axes>"
      ]
     },
     "metadata": {
      "needs_background": "light"
     },
     "output_type": "display_data"
    }
   ],
   "source": [
    "plt.plot(results_df[\"Prediction\"], marker='o', color='green')\n",
    "plt.xlabel(\"Fecha\")\n",
    "plt.xticks(ticks=range(0,len(results_df)), labels=results_df[\"Date\"], rotation=90)\n",
    "plt.ylabel(\"Valor de cierre\")\n",
    "plt.plot(results_df[\"RealValue\"], marker=\"s\", color='red')\n",
    "plt.show()"
   ]
  }
 ],
 "metadata": {
  "kernelspec": {
   "display_name": "Python 3.10.5 64-bit",
   "language": "python",
   "name": "python3"
  },
  "language_info": {
   "codemirror_mode": {
    "name": "ipython",
    "version": 3
   },
   "file_extension": ".py",
   "mimetype": "text/x-python",
   "name": "python",
   "nbconvert_exporter": "python",
   "pygments_lexer": "ipython3",
   "version": "3.10.5"
  },
  "orig_nbformat": 4,
  "vscode": {
   "interpreter": {
    "hash": "ed3943dba37f3ed717092a780584c496f36863d6c99891baccd6632ecc02cdda"
   }
  }
 },
 "nbformat": 4,
 "nbformat_minor": 2
}
